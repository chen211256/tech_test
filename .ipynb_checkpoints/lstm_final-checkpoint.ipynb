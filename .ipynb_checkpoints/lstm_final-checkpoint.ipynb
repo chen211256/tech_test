{
 "cells": [
  {
   "cell_type": "code",
   "execution_count": 248,
   "id": "e2d94f99-5c33-4ac2-aad1-95e732e76785",
   "metadata": {},
   "outputs": [],
   "source": [
    "import json\n",
    "import matplotlib.pyplot as plt\n",
    "import pandas as pd\n",
    "import seaborn as sns\n",
    "import plotly.express as px\n",
    "import numpy as np\n",
    "from itertools import repeat\n",
    "from sklearn.metrics import confusion_matrix\n",
    "from keras.metrics import mean_squared_error,mean_absolute_error,categorical_accuracy\n",
    "# LSTM for international airline passengers problem with memory\n",
    "import tensorflow as tf\n",
    "from keras.models import Sequential\n",
    "\n",
    "from keras.layers import Dense, Dropout\n",
    "from keras.layers import LSTM, Bidirectional\n",
    "\n",
    "from sklearn.preprocessing import OneHotEncoder, normalize, LabelEncoder\n",
    "from keras import callbacks\n",
    "import warnings\n",
    "warnings.filterwarnings(\"ignore\")\n",
    "\n",
    "m1 = open('data/match_1.json')\n",
    "df1 = json.load(m1)\n",
    "\n",
    "m2 = open('data/match_2.json')\n",
    "df2 = json.load(m2)\n",
    "\n",
    "df1 = pd.DataFrame(df1)\n",
    "df2 = pd.DataFrame(df2)\n",
    "\n",
    "df1[['label']] = df1[['label']].astype('category')\n",
    "df2[['label']] = df2[['label']].astype('category')\n",
    "\n",
    "\n",
    "df2 = df2.drop(df2[df2['label'] == 'no action'].index)"
   ]
  },
  {
   "cell_type": "code",
   "execution_count": 249,
   "id": "88fc4d6d-cdb1-4c27-bfa0-128fe3902be2",
   "metadata": {},
   "outputs": [
    {
     "data": {
      "text/html": [
       "<div>\n",
       "<style scoped>\n",
       "    .dataframe tbody tr th:only-of-type {\n",
       "        vertical-align: middle;\n",
       "    }\n",
       "\n",
       "    .dataframe tbody tr th {\n",
       "        vertical-align: top;\n",
       "    }\n",
       "\n",
       "    .dataframe thead th {\n",
       "        text-align: right;\n",
       "    }\n",
       "</style>\n",
       "<table border=\"1\" class=\"dataframe\">\n",
       "  <thead>\n",
       "    <tr style=\"text-align: right;\">\n",
       "      <th></th>\n",
       "      <th>label</th>\n",
       "      <th>norm</th>\n",
       "    </tr>\n",
       "  </thead>\n",
       "  <tbody>\n",
       "    <tr>\n",
       "      <th>0</th>\n",
       "      <td>walk</td>\n",
       "      <td>[23.177037336396975, 23.36152528524938, 21.535...</td>\n",
       "    </tr>\n",
       "    <tr>\n",
       "      <th>1</th>\n",
       "      <td>walk</td>\n",
       "      <td>[20.998214383911275, 19.182798059840767, 18.27...</td>\n",
       "    </tr>\n",
       "    <tr>\n",
       "      <th>2</th>\n",
       "      <td>walk</td>\n",
       "      <td>[21.95259682019565, 20.62720484424047, 22.5554...</td>\n",
       "    </tr>\n",
       "    <tr>\n",
       "      <th>3</th>\n",
       "      <td>walk</td>\n",
       "      <td>[19.39209748358647, 19.30460665293087, 18.9787...</td>\n",
       "    </tr>\n",
       "    <tr>\n",
       "      <th>4</th>\n",
       "      <td>rest</td>\n",
       "      <td>[22.069263037713093, 19.672270483203395, 19.88...</td>\n",
       "    </tr>\n",
       "    <tr>\n",
       "      <th>...</th>\n",
       "      <td>...</td>\n",
       "      <td>...</td>\n",
       "    </tr>\n",
       "    <tr>\n",
       "      <th>569</th>\n",
       "      <td>walk</td>\n",
       "      <td>[21.245737438782683, 21.938836193196945, 21.24...</td>\n",
       "    </tr>\n",
       "    <tr>\n",
       "      <th>570</th>\n",
       "      <td>walk</td>\n",
       "      <td>[20.272347748199333, 21.820302584302983, 21.21...</td>\n",
       "    </tr>\n",
       "    <tr>\n",
       "      <th>571</th>\n",
       "      <td>run</td>\n",
       "      <td>[90.21306005395827, 72.12712844635696, 63.5643...</td>\n",
       "    </tr>\n",
       "    <tr>\n",
       "      <th>572</th>\n",
       "      <td>tackle</td>\n",
       "      <td>[44.79510251441832, 27.26406867633046, 88.6164...</td>\n",
       "    </tr>\n",
       "    <tr>\n",
       "      <th>573</th>\n",
       "      <td>run</td>\n",
       "      <td>[21.329404003070557, 27.39475495646987, 43.789...</td>\n",
       "    </tr>\n",
       "  </tbody>\n",
       "</table>\n",
       "<p>574 rows × 2 columns</p>\n",
       "</div>"
      ],
      "text/plain": [
       "      label                                               norm\n",
       "0      walk  [23.177037336396975, 23.36152528524938, 21.535...\n",
       "1      walk  [20.998214383911275, 19.182798059840767, 18.27...\n",
       "2      walk  [21.95259682019565, 20.62720484424047, 22.5554...\n",
       "3      walk  [19.39209748358647, 19.30460665293087, 18.9787...\n",
       "4      rest  [22.069263037713093, 19.672270483203395, 19.88...\n",
       "..      ...                                                ...\n",
       "569    walk  [21.245737438782683, 21.938836193196945, 21.24...\n",
       "570    walk  [20.272347748199333, 21.820302584302983, 21.21...\n",
       "571     run  [90.21306005395827, 72.12712844635696, 63.5643...\n",
       "572  tackle  [44.79510251441832, 27.26406867633046, 88.6164...\n",
       "573     run  [21.329404003070557, 27.39475495646987, 43.789...\n",
       "\n",
       "[574 rows x 2 columns]"
      ]
     },
     "execution_count": 249,
     "metadata": {},
     "output_type": "execute_result"
    }
   ],
   "source": [
    "df1"
   ]
  },
  {
   "cell_type": "code",
   "execution_count": 250,
   "id": "ad555e48-16ab-41dc-adbb-4298cdf732cf",
   "metadata": {},
   "outputs": [],
   "source": [
    "def flatten(l):\n",
    "    return [item for sublist in l for item in sublist]\n",
    "\n",
    "def flatten_column(df):\n",
    "    label_ = []\n",
    "    norm_ = []\n",
    "    for i in range(len(df)):\n",
    "        norm = df.iloc[i, 1]\n",
    "        norm_.append(norm)\n",
    "        df.iloc[i, 0] * len(norm)\n",
    "        label_.append(list(repeat(df.iloc[i, 0], len(norm))))\n",
    "\n",
    "    return flatten(label_), flatten(norm_)\n",
    "\n",
    "lab1_, norm1_=flatten_column(df1)\n",
    "lab2_, norm2_=flatten_column(df2)\n",
    "df1_long=pd.DataFrame({'label':lab1_,'norm':norm1_})\n",
    "df2_long=pd.DataFrame({'label':lab2_,'norm':norm2_})\n",
    "\n",
    "tf.random.set_seed(1234)\n",
    "\n",
    "# Creating a instance of label Encoder.\n",
    "le = LabelEncoder()\n",
    "label1 = le.fit_transform(df1_long['label'])\n",
    "\n",
    "# log normalize\n",
    "lognorm1_=np.log(norm1_)\n",
    "df1_long['lognorm']=lognorm1_\n",
    "df1_long['action']=label1"
   ]
  },
  {
   "cell_type": "code",
   "execution_count": 251,
   "id": "2d35f005-51f6-45cd-9b90-1e2f99a7fbac",
   "metadata": {},
   "outputs": [
    {
     "name": "stdout",
     "output_type": "stream",
     "text": [
      "data size:  (19482, 11, 1)\n",
      "norm size:  (19482,)\n",
      "action size:  (19482,)\n",
      "data size:  (5560, 11, 1)\n",
      "norm size:  (5560,)\n",
      "action size:  (5560,)\n",
      "data size:  (2775, 11, 1)\n",
      "norm size:  (2775,)\n",
      "action size:  (2775,)\n"
     ]
    }
   ],
   "source": [
    "\n",
    "def reframed_data(dataset,serie_label,start_index, end_index, history_size):\n",
    "    data = []\n",
    "    labels_r = []\n",
    "    labels_c=[]\n",
    "\n",
    "    start_index = start_index + history_size\n",
    "    if end_index is None:\n",
    "        end_index = len(dataset)\n",
    "\n",
    "    for i in range(start_index, end_index):\n",
    "        indices = range(i - history_size, i)\n",
    "        # Reshape data from (history_size,) to (history_size, 1)\n",
    "        reframed=np.append(dataset[indices],serie_label[indices[-1]])\n",
    "        data.append(np.reshape(reframed, (history_size+1, 1)))\n",
    "        labels_r.append(dataset[i])\n",
    "        labels_c.append(serie_label[i])\n",
    "    print('data size: ',np.array(data).shape)\n",
    "    print('norm size: ', np.array(labels_r).shape)\n",
    "    print('action size: ',np.array(labels_c).shape)\n",
    "    return np.array(data), np.array(labels_r),np.array(labels_c)\n",
    "\n",
    "\n",
    "# The model will be given the last 15 recorded to learn to predict the next time step.\n",
    "history_size = 10\n",
    "\n",
    "split_size = int(0.7* len(df1_long))\n",
    "X_train, y_train_r,y_train_c= reframed_data(df1_long['lognorm'].values,\n",
    "                                          df1_long['action'].values,\n",
    "                start_index=0,\n",
    "                end_index=split_size,\n",
    "                history_size=history_size)\n",
    "\n",
    "X_val, y_val_r,y_val_c= reframed_data(df1_long['lognorm'].values,\n",
    "                                      df1_long['action'].values,\n",
    "                start_index=split_size,\n",
    "                end_index=int(0.9* len(df1_long)) ,\n",
    "                history_size=history_size)\n",
    "\n",
    "X_test, y_test_r,y_test_c= reframed_data(df1_long['lognorm'].values,\n",
    "                                        df1_long['action'].values,\n",
    "                start_index=int(0.9* len(df1_long)),\n",
    "                end_index=None ,\n",
    "                history_size=history_size)\n"
   ]
  },
  {
   "cell_type": "code",
   "execution_count": 252,
   "id": "a7d92798-0e68-4fc7-aa9c-e84be4e5f229",
   "metadata": {},
   "outputs": [
    {
     "name": "stdout",
     "output_type": "stream",
     "text": [
      "Epoch 1/10\n",
      "271/271 [==============================] - 3s 8ms/step - loss: 0.4745 - val_loss: 0.1823\n",
      "Epoch 2/10\n",
      "271/271 [==============================] - 2s 7ms/step - loss: 0.2908 - val_loss: 0.1556\n",
      "Epoch 3/10\n",
      "271/271 [==============================] - 2s 7ms/step - loss: 0.2741 - val_loss: 0.1227\n",
      "Epoch 4/10\n",
      "271/271 [==============================] - 2s 7ms/step - loss: 0.2725 - val_loss: 0.1185\n",
      "Epoch 5/10\n",
      "271/271 [==============================] - 2s 7ms/step - loss: 0.2697 - val_loss: 0.1196\n",
      "Epoch 6/10\n",
      "271/271 [==============================] - 2s 7ms/step - loss: 0.2693 - val_loss: 0.1340\n",
      "Epoch 7/10\n",
      "271/271 [==============================] - 2s 7ms/step - loss: 0.2687 - val_loss: 0.1240\n",
      "Epoch 8/10\n",
      "271/271 [==============================] - 2s 7ms/step - loss: 0.2665 - val_loss: 0.1133\n",
      "Epoch 9/10\n",
      "271/271 [==============================] - 2s 7ms/step - loss: 0.2648 - val_loss: 0.1430\n",
      "Epoch 10/10\n",
      "271/271 [==============================] - 2s 7ms/step - loss: 0.2644 - val_loss: 0.1140\n",
      "saved regression model to disk\n",
      "Model: \"sequential_9\"\n",
      "_________________________________________________________________\n",
      " Layer (type)                Output Shape              Param #   \n",
      "=================================================================\n",
      " lstm_18 (LSTM)              (None, 11, 50)            10400     \n",
      "                                                                 \n",
      " lstm_19 (LSTM)              (None, 25)                7600      \n",
      "                                                                 \n",
      " dense_9 (Dense)             (None, 8)                 208       \n",
      "                                                                 \n",
      "=================================================================\n",
      "Total params: 18,208\n",
      "Trainable params: 18,208\n",
      "Non-trainable params: 0\n",
      "_________________________________________________________________\n"
     ]
    }
   ],
   "source": [
    "\n",
    "tf.random.set_seed(1234)\n",
    "model_reg = Sequential()\n",
    "model_reg.add(LSTM(50, activation='relu',input_shape=X_train.shape[-2:],return_sequences = True))\n",
    "model_reg.add(LSTM(25,activation='relu'))\n",
    "model_reg.add(Dense(1))\n",
    "model_reg.compile(loss='mae', optimizer='adam')\n",
    "\n",
    "\n",
    "earlystopping = callbacks.EarlyStopping(monitor=\"val_loss\",\n",
    "                                        mode=\"min\", patience=5,\n",
    "                                        restore_best_weights=True)\n",
    "\n",
    "\n",
    "# fit network\n",
    "epochs=10\n",
    "history_reg = model_reg.fit(X_train,y_train_r, epochs=epochs, batch_size=72, validation_data=(X_val,y_val_r),\n",
    "    validation_steps=10,callbacks=[earlystopping])\n",
    "\n",
    "model_reg.save(\"figure/lstm/lstm_steps_\"+str(epochs)+\"_epochs.h5\")\n",
    "print(\"saved regression model to disk\")\n",
    "model.summary()\n",
    "\n",
    "\n",
    "\n",
    "\n",
    "train_loss = history_reg.history['loss']\n",
    "val_loss = history_reg.history['val_loss']"
   ]
  },
  {
   "cell_type": "code",
   "execution_count": 253,
   "id": "b79db265-5f45-4e9a-adca-eb5558e7ae42",
   "metadata": {},
   "outputs": [
    {
     "name": "stdout",
     "output_type": "stream",
     "text": [
      "saved figure loss\n"
     ]
    }
   ],
   "source": [
    "# Plot loss\n",
    "def plot_loss(train_loss,val_loss,epochs,title):\n",
    "    epochs_range = range(epochs)\n",
    "    plt.plot(epochs_range, train_loss, label='Training Loss')\n",
    "    plt.plot(epochs_range, val_loss, label='Validation Loss')\n",
    "    plt.legend(loc='upper right')\n",
    "    plt.title('Loss_'+str(title))\n",
    "    plt.savefig('figure/lstm/loss_'+str(title)+'.png')\n",
    "    plt.close()\n",
    "    print('saved figure loss')\n",
    "\n",
    "\n",
    "plot_loss(train_loss = train_loss,\n",
    "          val_loss= val_loss,\n",
    "          epochs=epochs,\n",
    "          title='mae')\n"
   ]
  },
  {
   "cell_type": "code",
   "execution_count": 254,
   "id": "3fe8d826-c45c-4b0f-bb2e-fa519456bc1e",
   "metadata": {},
   "outputs": [
    {
     "name": "stdout",
     "output_type": "stream",
     "text": [
      "saved figure lossvalidation set\n",
      "saved figure losstest set\n"
     ]
    }
   ],
   "source": [
    "def plot_predict(y_real,y_predict,title):\n",
    "    plt.figure(figsize=(25, 6))\n",
    "    plt.plot(y_real, label='Actual')\n",
    "    plt.plot(y_predict, label='Predicted')\n",
    "    plt.xlabel('Time')\n",
    "    plt.ylabel('Acceleration')\n",
    "    plt.xlim([0, len(y_real)])\n",
    "    plt.title('lognorm_'+str(title))\n",
    "    plt.savefig('figure/lstm/lstm_'+str(title)+\"_steps_\"+str(epochs)+\"_epochs.png\")\n",
    "    plt.close()\n",
    "    print('saved figure loss'+str(title))\n",
    "\n",
    "y_predict_train_r=model_reg.predict(X_train)\n",
    "y_predict_val_r=model_reg.predict(X_val)\n",
    "y_predict_test_r=model_reg.predict(X_test)\n",
    "\n",
    "plot_predict(y_real=y_val_r,\n",
    "             y_predict=y_predict_val_r,\n",
    "             title='validation set')\n",
    "\n",
    "plot_predict(y_real=y_test_r,\n",
    "             y_predict=y_predict_test_r,\n",
    "             title='test set')"
   ]
  },
  {
   "cell_type": "code",
   "execution_count": 255,
   "id": "73f6e46c-cb6f-494f-9179-bb68a8360de9",
   "metadata": {},
   "outputs": [
    {
     "name": "stdout",
     "output_type": "stream",
     "text": [
      "Epoch 1/10\n",
      "271/271 [==============================] - 3s 8ms/step - loss: 0.8918 - val_loss: 0.2158\n",
      "Epoch 2/10\n",
      "271/271 [==============================] - 2s 7ms/step - loss: 0.2346 - val_loss: 0.1685\n",
      "Epoch 3/10\n",
      "271/271 [==============================] - 2s 8ms/step - loss: 0.1614 - val_loss: 0.0973\n",
      "Epoch 4/10\n",
      "271/271 [==============================] - 2s 8ms/step - loss: 0.1354 - val_loss: 0.0869\n",
      "Epoch 5/10\n",
      "271/271 [==============================] - 2s 8ms/step - loss: 0.1229 - val_loss: 0.1431\n",
      "Epoch 6/10\n",
      "271/271 [==============================] - 2s 8ms/step - loss: 0.1090 - val_loss: 0.0375\n",
      "Epoch 7/10\n",
      "271/271 [==============================] - 2s 7ms/step - loss: 0.1013 - val_loss: 0.0498\n",
      "Epoch 8/10\n",
      "271/271 [==============================] - 2s 7ms/step - loss: 0.0920 - val_loss: 0.0399\n",
      "Epoch 9/10\n",
      "271/271 [==============================] - 2s 7ms/step - loss: 0.0878 - val_loss: 0.0373\n",
      "Epoch 10/10\n",
      "271/271 [==============================] - 2s 8ms/step - loss: 0.0825 - val_loss: 0.0500\n",
      "saved classification model to disk\n",
      "Model: \"sequential_9\"\n",
      "_________________________________________________________________\n",
      " Layer (type)                Output Shape              Param #   \n",
      "=================================================================\n",
      " lstm_18 (LSTM)              (None, 11, 50)            10400     \n",
      "                                                                 \n",
      " lstm_19 (LSTM)              (None, 25)                7600      \n",
      "                                                                 \n",
      " dense_9 (Dense)             (None, 8)                 208       \n",
      "                                                                 \n",
      "=================================================================\n",
      "Total params: 18,208\n",
      "Trainable params: 18,208\n",
      "Non-trainable params: 0\n",
      "_________________________________________________________________\n",
      "saved figure loss\n"
     ]
    }
   ],
   "source": [
    "\n",
    "tf.random.set_seed(1234)\n",
    "model_cl = Sequential()\n",
    "model_cl.add(LSTM(50, activation='relu',input_shape=X_train.shape[-2:],return_sequences = True))\n",
    "model_cl.add(LSTM(25,activation='relu'))\n",
    "model_cl.add(Dense(8,activation='softmax'))\n",
    "model_cl.compile(loss='sparse_categorical_crossentropy', optimizer='adam')\n",
    "\n",
    "\n",
    "# fit network\n",
    "history_cl = model_cl.fit(X_train,\n",
    "                       y_train_c,\n",
    "                       epochs=epochs,\n",
    "                       batch_size=72,\n",
    "                       validation_data=(X_val,y_val_c),\n",
    "                       validation_steps=10,\n",
    "                       callbacks=[earlystopping])\n",
    "\n",
    "model.save(\"figure/lstm/lstm_steps_\"+str(epochs)+\"_epochs.h5\")\n",
    "print(\"saved classification model to disk\")\n",
    "model.summary()\n",
    "\n",
    "train_loss = history_cl.history['loss']\n",
    "val_loss = history_cl.history['val_loss']\n",
    "epochs_range = range(epochs)\n",
    "\n",
    "plot_loss(train_loss = train_loss,\n",
    "          val_loss= val_loss,\n",
    "          epochs=epochs,\n",
    "          title='crossval')\n",
    "\n",
    "y_predict_train_c=model_cl.predict(X_train)\n",
    "y_predict_val_c=model_cl.predict(X_val)\n",
    "y_predict_test_c=model_cl.predict(X_test)\n"
   ]
  },
  {
   "cell_type": "code",
   "execution_count": null,
   "id": "c1c73891-21fc-4060-a851-47f27423f527",
   "metadata": {},
   "outputs": [],
   "source": []
  },
  {
   "cell_type": "code",
   "execution_count": 260,
   "id": "02afb5ea-738f-47c4-b6fa-d4d254881129",
   "metadata": {},
   "outputs": [],
   "source": [
    "\n",
    "y_predict_test=y_predict_test_c.argmax(axis=1)\n",
    "y_predict_label=le.inverse_transform(y_predict_test)\n",
    "y_predict_r=list(np.squeeze(np.exp(y_predict_test_r)))\n",
    "\n",
    "\n",
    "norm=[y_predict_r[0]]\n",
    "norm_=[]\n",
    "action_=[]\n",
    "for i in range(1,len(y_predict_test)):\n",
    "    if y_predict_label[i]==y_predict_label[i-1]:\n",
    "        norm.append(y_predict_r[i])\n",
    "            \n",
    "    else:\n",
    "        norm_.append(norm)\n",
    "        action_.append(y_predict_label[i-1])\n",
    "        norm=[y_predict_r[i]]\n",
    "            \n",
    "s2=pd.Series(norm_,name='norm')\n",
    "s1=pd.Series(action_,name='action')\n",
    "df_res=pd.concat([s1, s2], axis=1)"
   ]
  },
  {
   "cell_type": "code",
   "execution_count": 261,
   "id": "aeec9b5d-64bd-4bc4-88fc-d594c397472c",
   "metadata": {},
   "outputs": [],
   "source": [
    "y_predict_test=y_predict_test_c.argmax(axis=1)\n",
    "y_predict_label=le.inverse_transform(y_predict_test)\n",
    "y_predict_r=list(np.squeeze(np.exp(y_predict_test_r)))\n",
    "\n",
    "def output_result(y_predict_r,y_predict_label,number):\n",
    "    norm=[y_predict_r[0]]\n",
    "    norm_=[]\n",
    "    action_=[]\n",
    "    for i in range(1,len(y_predict_test)):\n",
    "        if y_predict_label[i]==y_predict_label[i-1]:\n",
    "            norm.append(y_predict_r[i])\n",
    "            \n",
    "        else:\n",
    "            norm_.append(norm)\n",
    "            action_.append(y_predict_label[i-1])\n",
    "            norm=[y_predict_r[i]]\n",
    "            \n",
    "    s2=pd.Series(norm_,name='norm')\n",
    "    s1=pd.Series(action_,name='action')\n",
    "    df_res=pd.concat([s1, s2], axis=1)\n",
    "    df_res.to_json('result/prediction_'+str(number)+'.json')\n",
    "    return df_res"
   ]
  },
  {
   "cell_type": "code",
   "execution_count": 262,
   "id": "af60e28b-bbeb-40ef-bafa-f003afd992f9",
   "metadata": {},
   "outputs": [
    {
     "data": {
      "text/html": [
       "<div>\n",
       "<style scoped>\n",
       "    .dataframe tbody tr th:only-of-type {\n",
       "        vertical-align: middle;\n",
       "    }\n",
       "\n",
       "    .dataframe tbody tr th {\n",
       "        vertical-align: top;\n",
       "    }\n",
       "\n",
       "    .dataframe thead th {\n",
       "        text-align: right;\n",
       "    }\n",
       "</style>\n",
       "<table border=\"1\" class=\"dataframe\">\n",
       "  <thead>\n",
       "    <tr style=\"text-align: right;\">\n",
       "      <th></th>\n",
       "      <th>action</th>\n",
       "      <th>norm</th>\n",
       "    </tr>\n",
       "  </thead>\n",
       "  <tbody>\n",
       "    <tr>\n",
       "      <th>0</th>\n",
       "      <td>run</td>\n",
       "      <td>[29.881954, 39.22576, 28.419226, 39.774742, 41...</td>\n",
       "    </tr>\n",
       "    <tr>\n",
       "      <th>1</th>\n",
       "      <td>walk</td>\n",
       "      <td>[12.2765255, 9.51573, 14.156709, 14.010279, 22...</td>\n",
       "    </tr>\n",
       "    <tr>\n",
       "      <th>2</th>\n",
       "      <td>tackle</td>\n",
       "      <td>[85.2109]</td>\n",
       "    </tr>\n",
       "    <tr>\n",
       "      <th>3</th>\n",
       "      <td>walk</td>\n",
       "      <td>[40.7116, 54.742413, 44.54462, 45.65306, 35.33...</td>\n",
       "    </tr>\n",
       "    <tr>\n",
       "      <th>4</th>\n",
       "      <td>run</td>\n",
       "      <td>[21.781239, 16.134436, 18.084661, 18.513607, 1...</td>\n",
       "    </tr>\n",
       "    <tr>\n",
       "      <th>5</th>\n",
       "      <td>walk</td>\n",
       "      <td>[15.991626, 17.707146, 17.918987, 20.067476, 2...</td>\n",
       "    </tr>\n",
       "    <tr>\n",
       "      <th>6</th>\n",
       "      <td>rest</td>\n",
       "      <td>[19.906385, 19.866505, 19.50045, 21.452547, 21...</td>\n",
       "    </tr>\n",
       "    <tr>\n",
       "      <th>7</th>\n",
       "      <td>walk</td>\n",
       "      <td>[20.89584, 21.652561, 21.267784, 21.331364, 21...</td>\n",
       "    </tr>\n",
       "    <tr>\n",
       "      <th>8</th>\n",
       "      <td>run</td>\n",
       "      <td>[21.936474, 21.661077, 22.099524, 22.181543, 2...</td>\n",
       "    </tr>\n",
       "    <tr>\n",
       "      <th>9</th>\n",
       "      <td>walk</td>\n",
       "      <td>[14.593192, 21.014095, 34.33483, 41.705578, 40...</td>\n",
       "    </tr>\n",
       "    <tr>\n",
       "      <th>10</th>\n",
       "      <td>run</td>\n",
       "      <td>[23.677698, 23.140326, 23.008505, 21.179123, 1...</td>\n",
       "    </tr>\n",
       "    <tr>\n",
       "      <th>11</th>\n",
       "      <td>dribble</td>\n",
       "      <td>[46.85948, 36.02478, 35.680244, 27.673475, 39....</td>\n",
       "    </tr>\n",
       "    <tr>\n",
       "      <th>12</th>\n",
       "      <td>pass</td>\n",
       "      <td>[37.796417, 49.307293, 27.371965, 33.141376, 2...</td>\n",
       "    </tr>\n",
       "    <tr>\n",
       "      <th>13</th>\n",
       "      <td>walk</td>\n",
       "      <td>[22.588808, 24.66724, 23.373884, 21.616037, 25...</td>\n",
       "    </tr>\n",
       "    <tr>\n",
       "      <th>14</th>\n",
       "      <td>run</td>\n",
       "      <td>[35.877472, 39.540558, 26.489164, 40.091343, 4...</td>\n",
       "    </tr>\n",
       "    <tr>\n",
       "      <th>15</th>\n",
       "      <td>walk</td>\n",
       "      <td>[19.656017, 25.004251, 31.381998, 62.977283, 5...</td>\n",
       "    </tr>\n",
       "    <tr>\n",
       "      <th>16</th>\n",
       "      <td>run</td>\n",
       "      <td>[62.25307, 60.92496, 54.107548, 59.93143, 52.6...</td>\n",
       "    </tr>\n",
       "    <tr>\n",
       "      <th>17</th>\n",
       "      <td>tackle</td>\n",
       "      <td>[40.666794, 28.180574, 64.85181, 51.74101, 68....</td>\n",
       "    </tr>\n",
       "  </tbody>\n",
       "</table>\n",
       "</div>"
      ],
      "text/plain": [
       "     action                                               norm\n",
       "0       run  [29.881954, 39.22576, 28.419226, 39.774742, 41...\n",
       "1      walk  [12.2765255, 9.51573, 14.156709, 14.010279, 22...\n",
       "2    tackle                                          [85.2109]\n",
       "3      walk  [40.7116, 54.742413, 44.54462, 45.65306, 35.33...\n",
       "4       run  [21.781239, 16.134436, 18.084661, 18.513607, 1...\n",
       "5      walk  [15.991626, 17.707146, 17.918987, 20.067476, 2...\n",
       "6      rest  [19.906385, 19.866505, 19.50045, 21.452547, 21...\n",
       "7      walk  [20.89584, 21.652561, 21.267784, 21.331364, 21...\n",
       "8       run  [21.936474, 21.661077, 22.099524, 22.181543, 2...\n",
       "9      walk  [14.593192, 21.014095, 34.33483, 41.705578, 40...\n",
       "10      run  [23.677698, 23.140326, 23.008505, 21.179123, 1...\n",
       "11  dribble  [46.85948, 36.02478, 35.680244, 27.673475, 39....\n",
       "12     pass  [37.796417, 49.307293, 27.371965, 33.141376, 2...\n",
       "13     walk  [22.588808, 24.66724, 23.373884, 21.616037, 25...\n",
       "14      run  [35.877472, 39.540558, 26.489164, 40.091343, 4...\n",
       "15     walk  [19.656017, 25.004251, 31.381998, 62.977283, 5...\n",
       "16      run  [62.25307, 60.92496, 54.107548, 59.93143, 52.6...\n",
       "17   tackle  [40.666794, 28.180574, 64.85181, 51.74101, 68...."
      ]
     },
     "execution_count": 262,
     "metadata": {},
     "output_type": "execute_result"
    }
   ],
   "source": [
    "number=10\n",
    "tmp=output_result(y_predict_r,y_predict_label,number)\n",
    "tmp"
   ]
  },
  {
   "cell_type": "code",
   "execution_count": 266,
   "id": "ad8723e9-fc08-4008-bab7-0b290bdb52c4",
   "metadata": {},
   "outputs": [],
   "source": [
    "df1['action_numeric']=le.fit_transform(df1['label'])"
   ]
  },
  {
   "cell_type": "code",
   "execution_count": 267,
   "id": "79ed3a52-e934-4ed3-b903-e7a8acfa0eb5",
   "metadata": {},
   "outputs": [],
   "source": [
    "idx=list(df1['action_numeric'].value_counts().index)\n",
    "df1['action_t+1']=df1['action_numeric'].shift(-1)\n",
    "df1=df1[['action_numeric','action_t+1']].dropna(axis=0)\n",
    "\n",
    "from collections import defaultdict"
   ]
  },
  {
   "cell_type": "code",
   "execution_count": 268,
   "id": "1e41459a-c30a-4875-832f-1847e806ced4",
   "metadata": {},
   "outputs": [],
   "source": [
    "\n",
    "def find_action_proba(df,idx):    \n",
    "\n",
    "    dic=[0]*(len(idx))\n",
    "    for i in range(len(idx)):\n",
    "        dic[i]=defaultdict(int)\n",
    "    \n",
    "    for i in range(len(df)):\n",
    "        dic[df.iloc[i,0]][df.iloc[i,1]]+=1\n",
    "    \n",
    "    #find the relevent proba\n",
    "    proba=[0]*(len(idx))\n",
    "    for i in range(len(idx)):\n",
    "        proba[i]=np.cumsum([v/sum(dic[i].values()) for v in list(dic[i].values())])\n",
    "    \n",
    "    return proba,dic\n",
    "\n",
    "proba1,dic1=find_action_proba(df1,idx)\n"
   ]
  },
  {
   "cell_type": "code",
   "execution_count": 269,
   "id": "372b99c7-56f8-46c0-a7f7-2b13c36d3d5b",
   "metadata": {},
   "outputs": [],
   "source": [
    "def next_action(label_numeric,proba,dic,norm_catego,quantile_low_thred=5,quantile_high_thred=5):\n",
    "    i=label_numeric\n",
    "    rand=np.random.uniform()\n",
    "\n",
    "    def searchInsert(nums, target):\n",
    "        left=0\n",
    "        right=len(nums)-1\n",
    "        while left<=right:\n",
    "            mid=(right-left)//2+left\n",
    "            if nums[mid]<target:\n",
    "                left=mid+1\n",
    "            elif nums[mid]==target:\n",
    "                return mid\n",
    "            else:\n",
    "                right=mid-1\n",
    "        return left\n",
    "    \n",
    "    ind=searchInsert(proba[i], rand)\n",
    "    \n",
    "    action_next=list(dic[i].keys())[ind]\n",
    "    \n",
    "    quantile_low=[np.percentile(norm_catego[i],quantile_low_thred) for i in range(8)]\n",
    "    quantile_high=[np.percentile(norm_catego[i],quantile_high_thred) for i in range(8)]\n",
    "    \n",
    "    return action_next, np.random.uniform(quantile_low[i],quantile_high[i])\n"
   ]
  },
  {
   "cell_type": "code",
   "execution_count": 270,
   "id": "b9124483-ac39-4e65-87ab-9468933c9c04",
   "metadata": {},
   "outputs": [],
   "source": [
    "norm1_catego_=[]\n",
    "norm2_catego_=[]\n",
    "\n",
    "for i,v in enumerate(idx1):\n",
    "    norm1_cat=df1_long[df1_long['label']==v]['norm']\n",
    "    norm2_cat=df2_long[df2_long['label']==v]['norm']\n",
    "    norm1_catego_.append(norm1_cat.values)\n",
    "    norm2_catego_.append(norm2_cat.values)\n",
    "\n",
    "action_next, norm_next= next_action(label_numeric=2,\n",
    "                                    proba=proba1,\n",
    "                                    dic=dic1,\n",
    "                                    norm_catego=norm1_catego_,\n",
    "                                    quantile_low_thred=5,\n",
    "                                    quantile_high_thred=5)\n"
   ]
  },
  {
   "cell_type": "code",
   "execution_count": 454,
   "id": "0bd3c26d-342a-43a2-88a6-c3adcf9123f7",
   "metadata": {},
   "outputs": [
    {
     "data": {
      "text/plain": [
       "numpy.ndarray"
      ]
     },
     "execution_count": 454,
     "metadata": {},
     "output_type": "execute_result"
    }
   ],
   "source": [
    "type(X_test)"
   ]
  },
  {
   "cell_type": "code",
   "execution_count": 493,
   "id": "fc006e1c-f235-4601-b846-5bb2e08dc79c",
   "metadata": {
    "tags": []
   },
   "outputs": [
    {
     "name": "stdout",
     "output_type": "stream",
     "text": [
      "0\n",
      "20\n",
      "40\n",
      "60\n",
      "80\n"
     ]
    }
   ],
   "source": [
    "history_size=10\n",
    "\n",
    "def predict_RF(reg_r,reg_c,X,n,proba,dic,norm_catego,frequent):\n",
    "    X_=[]\n",
    "    norm=list(X[0:history_size])\n",
    "    norm_=[norm]\n",
    "    \n",
    "    action=list(X[history_size:])\n",
    "    action_=[action]\n",
    "    \n",
    "    iter_change=n//frequent\n",
    "    \n",
    "    for i in range(n):\n",
    "        if i%iter_change==0:\n",
    "            print(i)\n",
    "            \n",
    "            action_next, norm_next= next_action(2,proba,dic,norm_catego)\n",
    "            X=np.append(X[1:-2],[norm_next, X[-2][0],action_next])\n",
    "            X = [[x] for x in X]\n",
    "\n",
    "        y_predict_r=reg_r.predict(X)\n",
    "        y_predict_c=reg_c.predict(X).argmax(axis=1)\n",
    "        \n",
    "        action.append(y_predict_c[0])\n",
    "        norm.append(y_predict_r[0,0])\n",
    "\n",
    "        X=np.append(X[1:-2],[y_predict_r[0][0],X[-2][0],y_predict_c[0]])\n",
    "        X = [[x] for x in X]\n",
    "\n",
    "        X_.append(X)\n",
    "        \n",
    "    return X_,action,norm\n",
    "\n",
    "tmp_y,tmp_action,tmp_norm=predict_RF(reg_r=model_reg,\n",
    "           reg_c=model_cl,\n",
    "           X=X_test[-1],\n",
    "           n=100,\n",
    "           proba=proba1,\n",
    "           dic=dic1,\n",
    "           norm_catego=norm1_catego_,\n",
    "           frequent=5)"
   ]
  },
  {
   "cell_type": "code",
   "execution_count": null,
   "id": "a2c03ba2-a40d-41fa-87a5-b6e441e28298",
   "metadata": {},
   "outputs": [
    {
     "ename": "IndexError",
     "evalue": "index -2 is out of bounds for axis 0 with size 1",
     "output_type": "error",
     "traceback": [
      "\u001b[0;31m---------------------------------------------------------------------------\u001b[0m",
      "\u001b[0;31mIndexError\u001b[0m                                Traceback (most recent call last)",
      "\u001b[0;32m/tmp/ipykernel_102570/1203232135.py\u001b[0m in \u001b[0;36m<module>\u001b[0;34m\u001b[0m\n\u001b[1;32m     27\u001b[0m     \u001b[0;32mreturn\u001b[0m \u001b[0mX_\u001b[0m\u001b[0;34m,\u001b[0m\u001b[0maction\u001b[0m\u001b[0;34m,\u001b[0m\u001b[0mnorm\u001b[0m\u001b[0;34m\u001b[0m\u001b[0;34m\u001b[0m\u001b[0m\n\u001b[1;32m     28\u001b[0m \u001b[0;34m\u001b[0m\u001b[0m\n\u001b[0;32m---> 29\u001b[0;31m tmp_y,tmp_action,tmp_norm=predict_RF(reg_r=model_reg,\n\u001b[0m\u001b[1;32m     30\u001b[0m            \u001b[0mreg_c\u001b[0m\u001b[0;34m=\u001b[0m\u001b[0mmodel_cl\u001b[0m\u001b[0;34m,\u001b[0m\u001b[0;34m\u001b[0m\u001b[0;34m\u001b[0m\u001b[0m\n\u001b[1;32m     31\u001b[0m            \u001b[0mX\u001b[0m\u001b[0;34m=\u001b[0m\u001b[0mX_test\u001b[0m\u001b[0;34m[\u001b[0m\u001b[0;34m-\u001b[0m\u001b[0;36m1\u001b[0m\u001b[0;34m]\u001b[0m\u001b[0;34m,\u001b[0m\u001b[0;34m\u001b[0m\u001b[0;34m\u001b[0m\u001b[0m\n",
      "\u001b[0;32m/tmp/ipykernel_102570/1203232135.py\u001b[0m in \u001b[0;36mpredict_RF\u001b[0;34m(reg_r, reg_c, X, n, proba, dic, norm_catego)\u001b[0m\n\u001b[1;32m     18\u001b[0m         \u001b[0mnorm\u001b[0m\u001b[0;34m.\u001b[0m\u001b[0mappend\u001b[0m\u001b[0;34m(\u001b[0m\u001b[0my_predict_r\u001b[0m\u001b[0;34m[\u001b[0m\u001b[0;36m0\u001b[0m\u001b[0;34m,\u001b[0m\u001b[0;36m0\u001b[0m\u001b[0;34m]\u001b[0m\u001b[0;34m)\u001b[0m\u001b[0;34m\u001b[0m\u001b[0;34m\u001b[0m\u001b[0m\n\u001b[1;32m     19\u001b[0m \u001b[0;34m\u001b[0m\u001b[0m\n\u001b[0;32m---> 20\u001b[0;31m         \u001b[0mX\u001b[0m\u001b[0;34m=\u001b[0m\u001b[0mnp\u001b[0m\u001b[0;34m.\u001b[0m\u001b[0mappend\u001b[0m\u001b[0;34m(\u001b[0m\u001b[0mX\u001b[0m\u001b[0;34m[\u001b[0m\u001b[0;36m1\u001b[0m\u001b[0;34m:\u001b[0m\u001b[0;34m-\u001b[0m\u001b[0;36m2\u001b[0m\u001b[0;34m]\u001b[0m\u001b[0;34m,\u001b[0m\u001b[0;34m[\u001b[0m\u001b[0my_predict_r\u001b[0m\u001b[0;34m[\u001b[0m\u001b[0;36m0\u001b[0m\u001b[0;34m]\u001b[0m\u001b[0;34m[\u001b[0m\u001b[0;36m0\u001b[0m\u001b[0;34m]\u001b[0m\u001b[0;34m,\u001b[0m\u001b[0mX\u001b[0m\u001b[0;34m[\u001b[0m\u001b[0;34m-\u001b[0m\u001b[0;36m2\u001b[0m\u001b[0;34m]\u001b[0m\u001b[0;34m[\u001b[0m\u001b[0;36m0\u001b[0m\u001b[0;34m]\u001b[0m\u001b[0;34m,\u001b[0m\u001b[0my_predict_c\u001b[0m\u001b[0;34m[\u001b[0m\u001b[0;36m0\u001b[0m\u001b[0;34m]\u001b[0m\u001b[0;34m]\u001b[0m\u001b[0;34m)\u001b[0m\u001b[0;34m\u001b[0m\u001b[0;34m\u001b[0m\u001b[0m\n\u001b[0m\u001b[1;32m     21\u001b[0m         \u001b[0mX\u001b[0m \u001b[0;34m=\u001b[0m \u001b[0mnp\u001b[0m\u001b[0;34m.\u001b[0m\u001b[0mexpand_dims\u001b[0m\u001b[0;34m(\u001b[0m\u001b[0mX\u001b[0m\u001b[0;34m,\u001b[0m \u001b[0;36m0\u001b[0m\u001b[0;34m)\u001b[0m\u001b[0;34m\u001b[0m\u001b[0;34m\u001b[0m\u001b[0m\n\u001b[1;32m     22\u001b[0m \u001b[0;34m\u001b[0m\u001b[0m\n",
      "\u001b[0;31mIndexError\u001b[0m: index -2 is out of bounds for axis 0 with size 1"
     ]
    }
   ],
   "source": [
    "history_size=10\n",
    "\n",
    "def predict_RF(reg_r,reg_c,X,n,proba,dic,norm_catego):\n",
    "    X_=[]\n",
    "    norm=list(X[0:history_size])\n",
    "    norm_=[norm]\n",
    "    \n",
    "    action=list(X[history_size:])\n",
    "    action_=[action]\n",
    "    \n",
    "\n",
    "    for i in range(n):\n",
    "\n",
    "        y_predict_r=reg_r.predict(X)\n",
    "        y_predict_c=reg_c.predict(X).argmax(axis=1)\n",
    "        \n",
    "        action.append(y_predict_c[0])\n",
    "        norm.append(y_predict_r[0,0])\n",
    "\n",
    "        X=np.append(X[1:-2],[y_predict_r[0][0],X[-2][0],y_predict_c[0]])\n",
    "        X = [[x] for x in X]\n",
    "\n",
    "        X_.append(X)\n",
    "        \n",
    "    return X_,action,norm\n",
    "        \n",
    "    return X_,action,norm\n",
    "\n",
    "tmp_y,tmp_action,tmp_norm=predict_RF(reg_r=model_reg,\n",
    "           reg_c=model_cl,\n",
    "           X=X_test[-1],\n",
    "           n=100,\n",
    "           proba=proba1,\n",
    "           dic=dic1,\n",
    "           norm_catego=norm1_catego_)"
   ]
  },
  {
   "cell_type": "code",
   "execution_count": 501,
   "id": "8cbd873c-96ff-4271-8ac9-4787a400b75b",
   "metadata": {},
   "outputs": [
    {
     "data": {
      "text/plain": [
       "[array([2.67040966]),\n",
       " array([2.53132331]),\n",
       " array([2.82332627]),\n",
       " array([2.83009684]),\n",
       " array([3.03224057]),\n",
       " array([2.75243507]),\n",
       " array([2.98989535]),\n",
       " array([2.41624225]),\n",
       " array([3.2068725]),\n",
       " array([3.40271618]),\n",
       " 0.16644536,\n",
       " 0.16110146,\n",
       " 0.1724077,\n",
       " 0.1726738,\n",
       " 0.1807019,\n",
       " 0.1696322,\n",
       " 0.17900681,\n",
       " 0.15673661,\n",
       " 0.18776736,\n",
       " 0.08370575,\n",
       " 0.08358753,\n",
       " 0.08383572,\n",
       " 0.08384152,\n",
       " 0.08401185,\n",
       " 0.08377524,\n",
       " 0.0839795,\n",
       " 0.08346781,\n",
       " 0.08416271,\n",
       " 0.081327975,\n",
       " 0.08132434,\n",
       " 0.08133197,\n",
       " 0.08133215,\n",
       " 0.08133738,\n",
       " 0.081330106,\n",
       " 0.081336394,\n",
       " 0.08132066,\n",
       " 0.08134201,\n",
       " 0.08125492,\n",
       " 0.08125481,\n",
       " 0.08125505,\n",
       " 0.08125505,\n",
       " 0.08125521,\n",
       " 0.08125499,\n",
       " 0.08125518,\n",
       " 0.081254706,\n",
       " 0.081255354,\n",
       " 0.08125268,\n",
       " 0.08125267,\n",
       " 0.08125268,\n",
       " 0.08125268,\n",
       " 0.08125269,\n",
       " 0.08125268,\n",
       " 0.08125269,\n",
       " 0.08125267,\n",
       " 0.081252694,\n",
       " 0.081252605,\n",
       " 0.081252605,\n",
       " 0.081252605,\n",
       " 0.081252605,\n",
       " 0.081252605,\n",
       " 0.081252605,\n",
       " 0.081252605,\n",
       " 0.081252605,\n",
       " 0.08125261,\n",
       " 0.081252605,\n",
       " 0.081252605,\n",
       " 0.081252605,\n",
       " 0.081252605,\n",
       " 0.081252605,\n",
       " 0.081252605,\n",
       " 0.081252605,\n",
       " 0.081252605,\n",
       " 0.081252605,\n",
       " 0.081252605,\n",
       " 0.081252605,\n",
       " 0.081252605,\n",
       " 0.081252605,\n",
       " 0.081252605,\n",
       " 0.081252605,\n",
       " 0.081252605,\n",
       " 0.081252605,\n",
       " 0.081252605,\n",
       " 0.081252605,\n",
       " 0.081252605,\n",
       " 0.081252605,\n",
       " 0.081252605,\n",
       " 0.081252605,\n",
       " 0.081252605,\n",
       " 0.081252605,\n",
       " 0.081252605,\n",
       " 0.081252605,\n",
       " 0.081252605,\n",
       " 0.081252605,\n",
       " 0.081252605,\n",
       " 0.081252605,\n",
       " 0.081252605,\n",
       " 0.081252605,\n",
       " 0.081252605,\n",
       " 0.081252605,\n",
       " 0.081252605,\n",
       " 0.081252605,\n",
       " 0.081252605,\n",
       " 0.081252605,\n",
       " 0.081252605,\n",
       " 0.081252605,\n",
       " 0.081252605,\n",
       " 0.081252605,\n",
       " 0.081252605,\n",
       " 0.081252605,\n",
       " 0.081252605]"
      ]
     },
     "execution_count": 501,
     "metadata": {},
     "output_type": "execute_result"
    }
   ],
   "source": [
    "tmp_norm"
   ]
  },
  {
   "cell_type": "code",
   "execution_count": 502,
   "id": "8b191e33-32ab-4ddf-b44a-9561d2d8951a",
   "metadata": {},
   "outputs": [
    {
     "data": {
      "text/plain": [
       "(0.0, 7.0)"
      ]
     },
     "execution_count": 502,
     "metadata": {},
     "output_type": "execute_result"
    },
    {
     "data": {
      "image/png": "[encoded data removed]",
      "text/plain": [
       "<Figure size 432x360 with 1 Axes>"
      ]
     },
     "metadata": {
      "needs_background": "light"
     },
     "output_type": "display_data"
    }
   ],
   "source": [
    "plt.figure(figsize=(6,5))\n",
    "plt.plot((tmp_norm))\n",
    "plt.ylim(0,7)"
   ]
  },
  {
   "cell_type": "code",
   "execution_count": null,
   "id": "1f287cf9-bc9e-474f-95d3-303abaa80e75",
   "metadata": {},
   "outputs": [],
   "source": [
    "X=np.append(X[1:-2],[norm_next,X[-2],action_next])\n",
    "X=X.reshape(1,-1).astype('float')\n",
    "y_predict_r=model_reg.predict(X)\n",
    "y_predict_c=model_cl.predict(X).argmax(axis=1)\n",
    "X=np.append(X[0][1:-2],[y_predict_r[0,0],X[0][-2],y_predict_c[0]]).reshape(1,-1)"
   ]
  },
  {
   "cell_type": "code",
   "execution_count": null,
   "id": "04ebf3ec-8338-4c4a-8395-a316b1ce3c58",
   "metadata": {},
   "outputs": [],
   "source": []
  },
  {
   "cell_type": "code",
   "execution_count": 336,
   "id": "22bbe0ba-84de-4bf8-b5ce-ed654e158db2",
   "metadata": {
    "collapsed": true,
    "jupyter": {
     "outputs_hidden": true
    },
    "tags": []
   },
   "outputs": [
    {
     "data": {
      "text/plain": [
       "array([[2.67040966],\n",
       "       [2.53132331],\n",
       "       [2.82332627],\n",
       "       [2.83009684],\n",
       "       [3.03224057],\n",
       "       [2.75243507],\n",
       "       [2.98989535],\n",
       "       [2.41624225],\n",
       "       [3.2068725 ],\n",
       "       [3.40271618],\n",
       "       [4.        ]])"
      ]
     },
     "execution_count": 336,
     "metadata": {},
     "output_type": "execute_result"
    }
   ],
   "source": [
    "X=X_test[-1]\n",
    "X"
   ]
  },
  {
   "cell_type": "code",
   "execution_count": 326,
   "id": "d63b53ff-0f5a-406e-8a45-56a0cf6f8d4a",
   "metadata": {
    "collapsed": true,
    "jupyter": {
     "outputs_hidden": true
    },
    "tags": []
   },
   "outputs": [
    {
     "data": {
      "text/plain": [
       "(11, 1)"
      ]
     },
     "execution_count": 326,
     "metadata": {},
     "output_type": "execute_result"
    }
   ],
   "source": [
    "X_train[0].shape"
   ]
  },
  {
   "cell_type": "code",
   "execution_count": 327,
   "id": "b2aa8975-0eda-417f-aa78-a6d2eeacb245",
   "metadata": {
    "collapsed": true,
    "jupyter": {
     "outputs_hidden": true
    },
    "tags": []
   },
   "outputs": [
    {
     "data": {
      "text/plain": [
       "array([[0.18517567],\n",
       "       [0.18549731],\n",
       "       [0.18220694],\n",
       "       [0.18556467],\n",
       "       [0.18487811],\n",
       "       [0.18473661],\n",
       "       [0.18511727],\n",
       "       [0.18471819],\n",
       "       [0.1835511 ],\n",
       "       [0.1820372 ],\n",
       "       [0.37102976]], dtype=float32)"
      ]
     },
     "execution_count": 327,
     "metadata": {},
     "output_type": "execute_result"
    }
   ],
   "source": [
    "model_reg.predict(X_train[0])"
   ]
  },
  {
   "cell_type": "code",
   "execution_count": 341,
   "id": "900343e7-ab7b-4e3d-be38-75ad3b9ed020",
   "metadata": {
    "collapsed": true,
    "jupyter": {
     "outputs_hidden": true
    },
    "tags": []
   },
   "outputs": [
    {
     "data": {
      "text/plain": [
       "array([[2.67040966, 2.53132331, 2.82332627, 2.83009684, 3.03224057,\n",
       "        2.75243507, 2.98989535, 2.41624225, 3.2068725 , 3.40271618,\n",
       "        4.        ]])"
      ]
     },
     "execution_count": 341,
     "metadata": {},
     "output_type": "execute_result"
    }
   ],
   "source": [
    "tmp=X.reshape(1,-1).astype('float')\n",
    "tmp"
   ]
  },
  {
   "cell_type": "code",
   "execution_count": 376,
   "id": "e9355bf2-2f73-4035-b5ef-2978bd6c98f6",
   "metadata": {
    "collapsed": true,
    "jupyter": {
     "outputs_hidden": true
    },
    "tags": []
   },
   "outputs": [
    {
     "data": {
      "text/plain": [
       "15.128520753832333"
      ]
     },
     "execution_count": 376,
     "metadata": {},
     "output_type": "execute_result"
    }
   ],
   "source": [
    "norm_next"
   ]
  },
  {
   "cell_type": "code",
   "execution_count": 389,
   "id": "92c02706-7e92-435c-b3df-39514d927458",
   "metadata": {
    "tags": []
   },
   "outputs": [],
   "source": [
    "X=X_train[0]\n",
    "\n",
    "action_next, norm_next= next_action(2,proba1,dic1,norm1_catego_)\n",
    "\n"
   ]
  },
  {
   "cell_type": "code",
   "execution_count": 404,
   "id": "86dd9f00-e12c-4010-ad91-b120b3f38016",
   "metadata": {
    "tags": []
   },
   "outputs": [],
   "source": [
    "X0=X_train[0]"
   ]
  },
  {
   "cell_type": "code",
   "execution_count": 406,
   "id": "f1965b3c-7967-4729-9d2a-6fe97c478147",
   "metadata": {},
   "outputs": [
    {
     "data": {
      "text/plain": [
       "((11, 1), (19482, 11, 1))"
      ]
     },
     "execution_count": 406,
     "metadata": {},
     "output_type": "execute_result"
    }
   ],
   "source": [
    "X0.shape, X_train.shape"
   ]
  },
  {
   "cell_type": "code",
   "execution_count": 412,
   "id": "5705e2ae-a1b8-4377-8550-8fafe22e5aa3",
   "metadata": {},
   "outputs": [
    {
     "name": "stdout",
     "output_type": "stream",
     "text": [
      "(1, 11)\n"
     ]
    },
    {
     "data": {
      "text/plain": [
       "array([[3.14316202, 3.15109045, 3.06969129, 3.1527495 , 3.13582134,\n",
       "        3.13232908, 3.14172096, 3.13187424, 3.10302196, 3.0654747 ,\n",
       "        7.        ]])"
      ]
     },
     "execution_count": 412,
     "metadata": {},
     "output_type": "execute_result"
    }
   ],
   "source": [
    "print(X0.reshape(1,-1).astype('float').shape)\n",
    "X0.reshape(1,-1).astype('float')"
   ]
  },
  {
   "cell_type": "code",
   "execution_count": 409,
   "id": "a085d0d5-1077-498b-a67f-86032be5c127",
   "metadata": {},
   "outputs": [
    {
     "data": {
      "text/plain": [
       "array([[3.0705764]], dtype=float32)"
      ]
     },
     "execution_count": 409,
     "metadata": {},
     "output_type": "execute_result"
    }
   ],
   "source": [
    "model_reg.predict(X0.reshape(1,-1).astype('float'))"
   ]
  },
  {
   "cell_type": "code",
   "execution_count": 425,
   "id": "ee27b75a-b7d7-4a46-af0b-b5e14773811e",
   "metadata": {},
   "outputs": [
    {
     "data": {
      "text/plain": [
       "3.4027161845395306"
      ]
     },
     "execution_count": 425,
     "metadata": {},
     "output_type": "execute_result"
    }
   ],
   "source": [
    "tmp[0][-2]"
   ]
  },
  {
   "cell_type": "code",
   "execution_count": 428,
   "id": "958425aa-bcdd-492d-a921-4567b025918a",
   "metadata": {},
   "outputs": [
    {
     "data": {
      "text/plain": [
       "array([2.53132331, 2.82332627, 2.83009684, 3.03224057, 2.75243507,\n",
       "       2.98989535, 2.41624225, 3.2068725 , 5.32832384, 3.40271618,\n",
       "       7.        ])"
      ]
     },
     "execution_count": 428,
     "metadata": {},
     "output_type": "execute_result"
    }
   ],
   "source": [
    "np.append(tmp[0][1:-2],[y_predict_r[0,0],tmp[0][-2],y_predict_c[0]])"
   ]
  },
  {
   "cell_type": "code",
   "execution_count": 418,
   "id": "396ffa3b-2305-4723-a313-a3263044786d",
   "metadata": {},
   "outputs": [
    {
     "data": {
      "text/plain": [
       "5.328324"
      ]
     },
     "execution_count": 418,
     "metadata": {},
     "output_type": "execute_result"
    }
   ],
   "source": [
    "y_predict_r[0,0]"
   ]
  },
  {
   "cell_type": "code",
   "execution_count": 396,
   "id": "26ef09e9-7d08-4f0e-a7ae-d0a64d379c56",
   "metadata": {},
   "outputs": [
    {
     "data": {
      "text/plain": [
       "array([7])"
      ]
     },
     "execution_count": 396,
     "metadata": {},
     "output_type": "execute_result"
    }
   ],
   "source": [
    "y_predict_c"
   ]
  },
  {
   "cell_type": "code",
   "execution_count": 434,
   "id": "7e8e477c-bf64-48c0-a6c5-8888fbbfa49d",
   "metadata": {},
   "outputs": [],
   "source": [
    "X=X_train[0]"
   ]
  },
  {
   "cell_type": "code",
   "execution_count": 439,
   "id": "2d9d83b0-2f96-4175-aad8-3c158335d5c0",
   "metadata": {},
   "outputs": [
    {
     "ename": "IndexError",
     "evalue": "index -2 is out of bounds for axis 0 with size 1",
     "output_type": "error",
     "traceback": [
      "\u001b[0;31m---------------------------------------------------------------------------\u001b[0m",
      "\u001b[0;31mIndexError\u001b[0m                                Traceback (most recent call last)",
      "\u001b[0;32m/tmp/ipykernel_102570/4201502064.py\u001b[0m in \u001b[0;36m<module>\u001b[0;34m\u001b[0m\n\u001b[0;32m----> 1\u001b[0;31m \u001b[0mX\u001b[0m\u001b[0;34m=\u001b[0m\u001b[0mnp\u001b[0m\u001b[0;34m.\u001b[0m\u001b[0mappend\u001b[0m\u001b[0;34m(\u001b[0m\u001b[0mX\u001b[0m\u001b[0;34m[\u001b[0m\u001b[0;36m1\u001b[0m\u001b[0;34m:\u001b[0m\u001b[0;34m-\u001b[0m\u001b[0;36m2\u001b[0m\u001b[0;34m]\u001b[0m\u001b[0;34m,\u001b[0m\u001b[0;34m[\u001b[0m\u001b[0mnorm_next\u001b[0m\u001b[0;34m,\u001b[0m\u001b[0mX\u001b[0m\u001b[0;34m[\u001b[0m\u001b[0;34m-\u001b[0m\u001b[0;36m2\u001b[0m\u001b[0;34m]\u001b[0m\u001b[0;34m,\u001b[0m\u001b[0maction_next\u001b[0m\u001b[0;34m]\u001b[0m\u001b[0;34m)\u001b[0m\u001b[0;34m\u001b[0m\u001b[0;34m\u001b[0m\u001b[0m\n\u001b[0m\u001b[1;32m      2\u001b[0m \u001b[0mX\u001b[0m\u001b[0;34m=\u001b[0m\u001b[0mX\u001b[0m\u001b[0;34m.\u001b[0m\u001b[0mreshape\u001b[0m\u001b[0;34m(\u001b[0m\u001b[0;36m1\u001b[0m\u001b[0;34m,\u001b[0m\u001b[0;34m-\u001b[0m\u001b[0;36m1\u001b[0m\u001b[0;34m)\u001b[0m\u001b[0;34m.\u001b[0m\u001b[0mastype\u001b[0m\u001b[0;34m(\u001b[0m\u001b[0;34m'float'\u001b[0m\u001b[0;34m)\u001b[0m\u001b[0;34m\u001b[0m\u001b[0;34m\u001b[0m\u001b[0m\n\u001b[1;32m      3\u001b[0m \u001b[0my_predict_r\u001b[0m\u001b[0;34m=\u001b[0m\u001b[0mmodel_reg\u001b[0m\u001b[0;34m.\u001b[0m\u001b[0mpredict\u001b[0m\u001b[0;34m(\u001b[0m\u001b[0mX\u001b[0m\u001b[0;34m)\u001b[0m\u001b[0;34m\u001b[0m\u001b[0;34m\u001b[0m\u001b[0m\n\u001b[1;32m      4\u001b[0m \u001b[0my_predict_c\u001b[0m\u001b[0;34m=\u001b[0m\u001b[0mmodel_cl\u001b[0m\u001b[0;34m.\u001b[0m\u001b[0mpredict\u001b[0m\u001b[0;34m(\u001b[0m\u001b[0mX\u001b[0m\u001b[0;34m)\u001b[0m\u001b[0;34m.\u001b[0m\u001b[0margmax\u001b[0m\u001b[0;34m(\u001b[0m\u001b[0maxis\u001b[0m\u001b[0;34m=\u001b[0m\u001b[0;36m1\u001b[0m\u001b[0;34m)\u001b[0m\u001b[0;34m\u001b[0m\u001b[0;34m\u001b[0m\u001b[0m\n\u001b[1;32m      5\u001b[0m \u001b[0mX\u001b[0m\u001b[0;34m=\u001b[0m\u001b[0mnp\u001b[0m\u001b[0;34m.\u001b[0m\u001b[0mappend\u001b[0m\u001b[0;34m(\u001b[0m\u001b[0mX\u001b[0m\u001b[0;34m[\u001b[0m\u001b[0;36m0\u001b[0m\u001b[0;34m]\u001b[0m\u001b[0;34m[\u001b[0m\u001b[0;36m1\u001b[0m\u001b[0;34m:\u001b[0m\u001b[0;34m-\u001b[0m\u001b[0;36m2\u001b[0m\u001b[0;34m]\u001b[0m\u001b[0;34m,\u001b[0m\u001b[0;34m[\u001b[0m\u001b[0my_predict_r\u001b[0m\u001b[0;34m[\u001b[0m\u001b[0;36m0\u001b[0m\u001b[0;34m,\u001b[0m\u001b[0;36m0\u001b[0m\u001b[0;34m]\u001b[0m\u001b[0;34m,\u001b[0m\u001b[0mX\u001b[0m\u001b[0;34m[\u001b[0m\u001b[0;36m0\u001b[0m\u001b[0;34m]\u001b[0m\u001b[0;34m[\u001b[0m\u001b[0;34m-\u001b[0m\u001b[0;36m2\u001b[0m\u001b[0;34m]\u001b[0m\u001b[0;34m,\u001b[0m\u001b[0my_predict_c\u001b[0m\u001b[0;34m[\u001b[0m\u001b[0;36m0\u001b[0m\u001b[0;34m]\u001b[0m\u001b[0;34m]\u001b[0m\u001b[0;34m)\u001b[0m\u001b[0;34m.\u001b[0m\u001b[0mreshape\u001b[0m\u001b[0;34m(\u001b[0m\u001b[0;36m1\u001b[0m\u001b[0;34m,\u001b[0m\u001b[0;34m-\u001b[0m\u001b[0;36m1\u001b[0m\u001b[0;34m)\u001b[0m\u001b[0;34m\u001b[0m\u001b[0;34m\u001b[0m\u001b[0m\n",
      "\u001b[0;31mIndexError\u001b[0m: index -2 is out of bounds for axis 0 with size 1"
     ]
    }
   ],
   "source": [
    "\n",
    "X=np.append(X[1:-2],[norm_next,X[-2],action_next])\n",
    "X=X.reshape(1,-1).astype('float')\n",
    "y_predict_r=model_reg.predict(X)\n",
    "y_predict_c=model_cl.predict(X).argmax(axis=1)\n",
    "X=np.append(X[0][1:-2],[y_predict_r[0,0],X[0][-2],y_predict_c[0]]).reshape(1,-1)"
   ]
  },
  {
   "cell_type": "code",
   "execution_count": 438,
   "id": "ed1a3de8-b7b0-4501-8b60-5d3d97619def",
   "metadata": {},
   "outputs": [
    {
     "data": {
      "text/plain": [
       "array([[ 3.13582134,  3.13232908,  3.14172096,  3.13187424,  3.10302196,\n",
       "        15.12852075,  5.32832384, 15.12852075,  7.16807508,  3.0654747 ,\n",
       "         6.        ]])"
      ]
     },
     "execution_count": 438,
     "metadata": {},
     "output_type": "execute_result"
    }
   ],
   "source": [
    "X"
   ]
  },
  {
   "cell_type": "code",
   "execution_count": 330,
   "id": "299a9c3c-a5cc-43f9-8bf2-d386adff6729",
   "metadata": {},
   "outputs": [
    {
     "data": {
      "text/plain": [
       "array([[2.67040966],\n",
       "       [2.53132331],\n",
       "       [2.82332627],\n",
       "       [2.83009684],\n",
       "       [3.03224057],\n",
       "       [2.75243507],\n",
       "       [2.98989535],\n",
       "       [2.41624225],\n",
       "       [3.2068725 ],\n",
       "       [3.40271618],\n",
       "       [4.        ]])"
      ]
     },
     "execution_count": 330,
     "metadata": {},
     "output_type": "execute_result"
    }
   ],
   "source": []
  },
  {
   "cell_type": "code",
   "execution_count": null,
   "id": "b28b50b8-738b-4288-9f35-65f9ac36215c",
   "metadata": {},
   "outputs": [],
   "source": []
  }
 ],
 "metadata": {
  "kernelspec": {
   "display_name": "Python 3 (ipykernel)",
   "language": "python",
   "name": "python3"
  },
  "language_info": {
   "codemirror_mode": {
    "name": "ipython",
    "version": 3
   },
   "file_extension": ".py",
   "mimetype": "text/x-python",
   "name": "python",
   "nbconvert_exporter": "python",
   "pygments_lexer": "ipython3",
   "version": "3.8.10"
  }
 },
 "nbformat": 4,
 "nbformat_minor": 5
}
