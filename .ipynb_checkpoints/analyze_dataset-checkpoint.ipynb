{
 "cells": [
  {
   "cell_type": "code",
   "execution_count": null,
   "id": "bbd4205e-7e9a-4fb7-80d3-604928f4ad19",
   "metadata": {},
   "outputs": [],
   "source": []
  },
  {
   "cell_type": "code",
   "execution_count": 23,
   "id": "e4fcd40d-42c7-491e-8716-88b8690821da",
   "metadata": {},
   "outputs": [],
   "source": [
    "import json\n",
    "import matplotlib.pyplot as plt\n",
    "import pandas as pd\n",
    "import seaborn as sns\n",
    "import plotly.express as px\n",
    "import numpy as np\n",
    "from itertools import repeat"
   ]
  },
  {
   "cell_type": "code",
   "execution_count": 24,
   "id": "83d13dff-77ab-45bd-ab18-a7c317fe0e53",
   "metadata": {},
   "outputs": [],
   "source": [
    "m1=open('data/match_1.json')\n",
    "df1 = json.load(m1)\n",
    "\n",
    "m2=open('data/match_2.json')\n",
    "df2 = json.load(m2)\n",
    "\n",
    "df1=pd.DataFrame(df1)\n",
    "df2=pd.DataFrame(df2)"
   ]
  },
  {
   "cell_type": "code",
   "execution_count": 25,
   "id": "58d12fda-4e1b-4dec-bcf2-d16f01513d73",
   "metadata": {},
   "outputs": [
    {
     "data": {
      "text/html": [
       "<div>\n",
       "<style scoped>\n",
       "    .dataframe tbody tr th:only-of-type {\n",
       "        vertical-align: middle;\n",
       "    }\n",
       "\n",
       "    .dataframe tbody tr th {\n",
       "        vertical-align: top;\n",
       "    }\n",
       "\n",
       "    .dataframe thead th {\n",
       "        text-align: right;\n",
       "    }\n",
       "</style>\n",
       "<table border=\"1\" class=\"dataframe\">\n",
       "  <thead>\n",
       "    <tr style=\"text-align: right;\">\n",
       "      <th></th>\n",
       "      <th>label</th>\n",
       "      <th>norm</th>\n",
       "    </tr>\n",
       "  </thead>\n",
       "  <tbody>\n",
       "    <tr>\n",
       "      <th>0</th>\n",
       "      <td>walk</td>\n",
       "      <td>[23.177037336396975, 23.36152528524938, 21.535...</td>\n",
       "    </tr>\n",
       "    <tr>\n",
       "      <th>1</th>\n",
       "      <td>walk</td>\n",
       "      <td>[20.998214383911275, 19.182798059840767, 18.27...</td>\n",
       "    </tr>\n",
       "    <tr>\n",
       "      <th>2</th>\n",
       "      <td>walk</td>\n",
       "      <td>[21.95259682019565, 20.62720484424047, 22.5554...</td>\n",
       "    </tr>\n",
       "    <tr>\n",
       "      <th>3</th>\n",
       "      <td>walk</td>\n",
       "      <td>[19.39209748358647, 19.30460665293087, 18.9787...</td>\n",
       "    </tr>\n",
       "    <tr>\n",
       "      <th>4</th>\n",
       "      <td>rest</td>\n",
       "      <td>[22.069263037713093, 19.672270483203395, 19.88...</td>\n",
       "    </tr>\n",
       "    <tr>\n",
       "      <th>...</th>\n",
       "      <td>...</td>\n",
       "      <td>...</td>\n",
       "    </tr>\n",
       "    <tr>\n",
       "      <th>569</th>\n",
       "      <td>walk</td>\n",
       "      <td>[21.245737438782683, 21.938836193196945, 21.24...</td>\n",
       "    </tr>\n",
       "    <tr>\n",
       "      <th>570</th>\n",
       "      <td>walk</td>\n",
       "      <td>[20.272347748199333, 21.820302584302983, 21.21...</td>\n",
       "    </tr>\n",
       "    <tr>\n",
       "      <th>571</th>\n",
       "      <td>run</td>\n",
       "      <td>[90.21306005395827, 72.12712844635696, 63.5643...</td>\n",
       "    </tr>\n",
       "    <tr>\n",
       "      <th>572</th>\n",
       "      <td>tackle</td>\n",
       "      <td>[44.79510251441832, 27.26406867633046, 88.6164...</td>\n",
       "    </tr>\n",
       "    <tr>\n",
       "      <th>573</th>\n",
       "      <td>run</td>\n",
       "      <td>[21.329404003070557, 27.39475495646987, 43.789...</td>\n",
       "    </tr>\n",
       "  </tbody>\n",
       "</table>\n",
       "<p>574 rows × 2 columns</p>\n",
       "</div>"
      ],
      "text/plain": [
       "      label                                               norm\n",
       "0      walk  [23.177037336396975, 23.36152528524938, 21.535...\n",
       "1      walk  [20.998214383911275, 19.182798059840767, 18.27...\n",
       "2      walk  [21.95259682019565, 20.62720484424047, 22.5554...\n",
       "3      walk  [19.39209748358647, 19.30460665293087, 18.9787...\n",
       "4      rest  [22.069263037713093, 19.672270483203395, 19.88...\n",
       "..      ...                                                ...\n",
       "569    walk  [21.245737438782683, 21.938836193196945, 21.24...\n",
       "570    walk  [20.272347748199333, 21.820302584302983, 21.21...\n",
       "571     run  [90.21306005395827, 72.12712844635696, 63.5643...\n",
       "572  tackle  [44.79510251441832, 27.26406867633046, 88.6164...\n",
       "573     run  [21.329404003070557, 27.39475495646987, 43.789...\n",
       "\n",
       "[574 rows x 2 columns]"
      ]
     },
     "execution_count": 25,
     "metadata": {},
     "output_type": "execute_result"
    }
   ],
   "source": [
    "df1"
   ]
  },
  {
   "cell_type": "code",
   "execution_count": 26,
   "id": "abcf49c5-c1fa-4a50-86f3-26c77da02afd",
   "metadata": {},
   "outputs": [
    {
     "name": "stdout",
     "output_type": "stream",
     "text": [
      "<class 'pandas.core.frame.DataFrame'>\n",
      "RangeIndex: 574 entries, 0 to 573\n",
      "Data columns (total 2 columns):\n",
      " #   Column  Non-Null Count  Dtype \n",
      "---  ------  --------------  ----- \n",
      " 0   label   574 non-null    object\n",
      " 1   norm    574 non-null    object\n",
      "dtypes: object(2)\n",
      "memory usage: 9.1+ KB\n"
     ]
    }
   ],
   "source": [
    "df1.info()"
   ]
  },
  {
   "cell_type": "code",
   "execution_count": 27,
   "id": "f25031b0-9bcc-40f4-9a3e-3d8980065189",
   "metadata": {},
   "outputs": [],
   "source": [
    "df1[['label']]=df1[['label']].astype('category')\n",
    "df2[['label']]=df2[['label']].astype('category')"
   ]
  },
  {
   "cell_type": "code",
   "execution_count": 28,
   "id": "e52d0749-9b7f-48b6-9cee-d01a8bc32805",
   "metadata": {},
   "outputs": [
    {
     "data": {
      "application/vnd.plotly.v1+json": {
       "config": {
        "plotlyServerURL": "https://plot.ly"
       },
       "data": [
        {
         "domain": {
          "x": [
           0,
           1
          ],
          "y": [
           0,
           1
          ]
         },
         "hovertemplate": "label=%{label}<extra></extra>",
         "labels": [
          "walk",
          "walk",
          "walk",
          "walk",
          "rest",
          "walk",
          "walk",
          "walk",
          "run",
          "run",
          "run",
          "run",
          "run",
          "run",
          "run",
          "run",
          "run",
          "run",
          "run",
          "run",
          "run",
          "run",
          "run",
          "walk",
          "walk",
          "walk",
          "walk",
          "tackle",
          "run",
          "run",
          "run",
          "run",
          "run",
          "run",
          "run",
          "walk",
          "walk",
          "walk",
          "run",
          "run",
          "run",
          "run",
          "run",
          "run",
          "run",
          "run",
          "run",
          "run",
          "run",
          "walk",
          "run",
          "run",
          "run",
          "run",
          "run",
          "walk",
          "run",
          "run",
          "tackle",
          "dribble",
          "run",
          "dribble",
          "pass",
          "pass",
          "walk",
          "walk",
          "walk",
          "walk",
          "walk",
          "walk",
          "walk",
          "walk",
          "walk",
          "walk",
          "walk",
          "walk",
          "walk",
          "run",
          "run",
          "run",
          "walk",
          "run",
          "walk",
          "walk",
          "run",
          "run",
          "rest",
          "walk",
          "walk",
          "walk",
          "walk",
          "walk",
          "walk",
          "rest",
          "walk",
          "run",
          "run",
          "run",
          "run",
          "dribble",
          "run",
          "pass",
          "run",
          "run",
          "run",
          "run",
          "walk",
          "run",
          "run",
          "run",
          "run",
          "run",
          "walk",
          "walk",
          "walk",
          "walk",
          "run",
          "run",
          "tackle",
          "tackle",
          "run",
          "run",
          "run",
          "walk",
          "run",
          "run",
          "run",
          "run",
          "run",
          "walk",
          "walk",
          "walk",
          "walk",
          "walk",
          "rest",
          "walk",
          "walk",
          "rest",
          "run",
          "run",
          "run",
          "run",
          "run",
          "dribble",
          "dribble",
          "dribble",
          "pass",
          "run",
          "run",
          "dribble",
          "pass",
          "run",
          "run",
          "run",
          "run",
          "walk",
          "walk",
          "walk",
          "rest",
          "run",
          "run",
          "dribble",
          "dribble",
          "dribble",
          "dribble",
          "cross",
          "pass",
          "walk",
          "walk",
          "walk",
          "run",
          "run",
          "run",
          "run",
          "walk",
          "dribble",
          "shot",
          "run",
          "shot",
          "walk",
          "walk",
          "walk",
          "rest",
          "walk",
          "run",
          "run",
          "run",
          "run",
          "run",
          "run",
          "run",
          "tackle",
          "run",
          "run",
          "pass",
          "walk",
          "walk",
          "run",
          "run",
          "walk",
          "walk",
          "walk",
          "walk",
          "walk",
          "walk",
          "walk",
          "walk",
          "walk",
          "walk",
          "run",
          "run",
          "run",
          "run",
          "run",
          "run",
          "run",
          "run",
          "run",
          "dribble",
          "shot",
          "shot",
          "run",
          "run",
          "run",
          "run",
          "run",
          "run",
          "run",
          "run",
          "dribble",
          "dribble",
          "dribble",
          "run",
          "run",
          "run",
          "run",
          "rest",
          "walk",
          "walk",
          "walk",
          "walk",
          "walk",
          "walk",
          "rest",
          "walk",
          "run",
          "run",
          "run",
          "tackle",
          "dribble",
          "dribble",
          "pass",
          "walk",
          "run",
          "run",
          "walk",
          "walk",
          "run",
          "run",
          "rest",
          "run",
          "run",
          "dribble",
          "dribble",
          "pass",
          "rest",
          "walk",
          "run",
          "run",
          "dribble",
          "pass",
          "walk",
          "walk",
          "walk",
          "walk",
          "walk",
          "walk",
          "walk",
          "walk",
          "walk",
          "rest",
          "walk",
          "walk",
          "walk",
          "walk",
          "walk",
          "walk",
          "walk",
          "walk",
          "walk",
          "walk",
          "walk",
          "walk",
          "walk",
          "walk",
          "walk",
          "walk",
          "rest",
          "walk",
          "run",
          "run",
          "tackle",
          "tackle",
          "tackle",
          "walk",
          "walk",
          "walk",
          "walk",
          "run",
          "run",
          "run",
          "walk",
          "walk",
          "walk",
          "walk",
          "walk",
          "walk",
          "rest",
          "walk",
          "walk",
          "walk",
          "walk",
          "walk",
          "walk",
          "walk",
          "walk",
          "walk",
          "run",
          "run",
          "rest",
          "walk",
          "walk",
          "run",
          "run",
          "tackle",
          "tackle",
          "run",
          "run",
          "tackle",
          "walk",
          "walk",
          "walk",
          "run",
          "run",
          "run",
          "run",
          "run",
          "run",
          "run",
          "run",
          "walk",
          "walk",
          "dribble",
          "pass",
          "run",
          "dribble",
          "walk",
          "dribble",
          "pass",
          "cross",
          "rest",
          "run",
          "run",
          "run",
          "run",
          "walk",
          "walk",
          "walk",
          "walk",
          "walk",
          "walk",
          "walk",
          "walk",
          "walk",
          "rest",
          "walk",
          "walk",
          "walk",
          "walk",
          "walk",
          "walk",
          "walk",
          "walk",
          "walk",
          "run",
          "run",
          "tackle",
          "tackle",
          "run",
          "run",
          "run",
          "run",
          "run",
          "run",
          "run",
          "run",
          "run",
          "run",
          "run",
          "run",
          "run",
          "run",
          "run",
          "run",
          "run",
          "walk",
          "walk",
          "rest",
          "walk",
          "dribble",
          "pass",
          "dribble",
          "run",
          "pass",
          "walk",
          "walk",
          "walk",
          "walk",
          "rest",
          "pass",
          "pass",
          "pass",
          "rest",
          "walk",
          "rest",
          "walk",
          "walk",
          "walk",
          "walk",
          "walk",
          "walk",
          "walk",
          "walk",
          "walk",
          "tackle",
          "tackle",
          "run",
          "dribble",
          "dribble",
          "pass",
          "pass",
          "walk",
          "walk",
          "walk",
          "walk",
          "walk",
          "walk",
          "walk",
          "walk",
          "rest",
          "walk",
          "run",
          "tackle",
          "walk",
          "walk",
          "walk",
          "walk",
          "walk",
          "walk",
          "walk",
          "walk",
          "run",
          "run",
          "run",
          "tackle",
          "walk",
          "walk",
          "pass",
          "pass",
          "walk",
          "walk",
          "walk",
          "walk",
          "dribble",
          "walk",
          "pass",
          "run",
          "run",
          "pass",
          "dribble",
          "dribble",
          "dribble",
          "run",
          "run",
          "dribble",
          "dribble",
          "cross",
          "walk",
          "walk",
          "walk",
          "walk",
          "walk",
          "walk",
          "walk",
          "run",
          "run",
          "dribble",
          "run",
          "shot",
          "shot",
          "walk",
          "walk",
          "walk",
          "walk",
          "walk",
          "walk",
          "walk",
          "rest",
          "walk",
          "walk",
          "walk",
          "walk",
          "walk",
          "walk",
          "run",
          "tackle",
          "run",
          "walk",
          "walk",
          "rest",
          "run",
          "run",
          "run",
          "run",
          "run",
          "walk",
          "walk",
          "walk",
          "run",
          "run",
          "run",
          "run",
          "run",
          "run",
          "run",
          "walk",
          "walk",
          "walk",
          "rest",
          "walk",
          "run",
          "run",
          "walk",
          "walk",
          "run",
          "dribble",
          "dribble",
          "dribble",
          "dribble",
          "dribble",
          "dribble",
          "dribble",
          "pass",
          "walk",
          "walk",
          "run",
          "run",
          "walk",
          "walk",
          "walk",
          "walk",
          "walk",
          "walk",
          "walk",
          "walk",
          "walk",
          "walk",
          "walk",
          "walk",
          "walk",
          "walk",
          "run",
          "tackle",
          "run"
         ],
         "legendgroup": "",
         "name": "",
         "showlegend": true,
         "type": "pie"
        }
       ],
       "layout": {
        "height": 400,
        "legend": {
         "tracegroupgap": 0
        },
        "margin": {
         "t": 60
        },
        "template": {
         "data": {
          "bar": [
           {
            "error_x": {
             "color": "#2a3f5f"
            },
            "error_y": {
             "color": "#2a3f5f"
            },
            "marker": {
             "line": {
              "color": "#E5ECF6",
              "width": 0.5
             },
             "pattern": {
              "fillmode": "overlay",
              "size": 10,
              "solidity": 0.2
             }
            },
            "type": "bar"
           }
          ],
          "barpolar": [
           {
            "marker": {
             "line": {
              "color": "#E5ECF6",
              "width": 0.5
             },
             "pattern": {
              "fillmode": "overlay",
              "size": 10,
              "solidity": 0.2
             }
            },
            "type": "barpolar"
           }
          ],
          "carpet": [
           {
            "aaxis": {
             "endlinecolor": "#2a3f5f",
             "gridcolor": "white",
             "linecolor": "white",
             "minorgridcolor": "white",
             "startlinecolor": "#2a3f5f"
            },
            "baxis": {
             "endlinecolor": "#2a3f5f",
             "gridcolor": "white",
             "linecolor": "white",
             "minorgridcolor": "white",
             "startlinecolor": "#2a3f5f"
            },
            "type": "carpet"
           }
          ],
          "choropleth": [
           {
            "colorbar": {
             "outlinewidth": 0,
             "ticks": ""
            },
            "type": "choropleth"
           }
          ],
          "contour": [
           {
            "colorbar": {
             "outlinewidth": 0,
             "ticks": ""
            },
            "colorscale": [
             [
              0,
              "#0d0887"
             ],
             [
              0.1111111111111111,
              "#46039f"
             ],
             [
              0.2222222222222222,
              "#7201a8"
             ],
             [
              0.3333333333333333,
              "#9c179e"
             ],
             [
              0.4444444444444444,
              "#bd3786"
             ],
             [
              0.5555555555555556,
              "#d8576b"
             ],
             [
              0.6666666666666666,
              "#ed7953"
             ],
             [
              0.7777777777777778,
              "#fb9f3a"
             ],
             [
              0.8888888888888888,
              "#fdca26"
             ],
             [
              1,
              "#f0f921"
             ]
            ],
            "type": "contour"
           }
          ],
          "contourcarpet": [
           {
            "colorbar": {
             "outlinewidth": 0,
             "ticks": ""
            },
            "type": "contourcarpet"
           }
          ],
          "heatmap": [
           {
            "colorbar": {
             "outlinewidth": 0,
             "ticks": ""
            },
            "colorscale": [
             [
              0,
              "#0d0887"
             ],
             [
              0.1111111111111111,
              "#46039f"
             ],
             [
              0.2222222222222222,
              "#7201a8"
             ],
             [
              0.3333333333333333,
              "#9c179e"
             ],
             [
              0.4444444444444444,
              "#bd3786"
             ],
             [
              0.5555555555555556,
              "#d8576b"
             ],
             [
              0.6666666666666666,
              "#ed7953"
             ],
             [
              0.7777777777777778,
              "#fb9f3a"
             ],
             [
              0.8888888888888888,
              "#fdca26"
             ],
             [
              1,
              "#f0f921"
             ]
            ],
            "type": "heatmap"
           }
          ],
          "heatmapgl": [
           {
            "colorbar": {
             "outlinewidth": 0,
             "ticks": ""
            },
            "colorscale": [
             [
              0,
              "#0d0887"
             ],
             [
              0.1111111111111111,
              "#46039f"
             ],
             [
              0.2222222222222222,
              "#7201a8"
             ],
             [
              0.3333333333333333,
              "#9c179e"
             ],
             [
              0.4444444444444444,
              "#bd3786"
             ],
             [
              0.5555555555555556,
              "#d8576b"
             ],
             [
              0.6666666666666666,
              "#ed7953"
             ],
             [
              0.7777777777777778,
              "#fb9f3a"
             ],
             [
              0.8888888888888888,
              "#fdca26"
             ],
             [
              1,
              "#f0f921"
             ]
            ],
            "type": "heatmapgl"
           }
          ],
          "histogram": [
           {
            "marker": {
             "pattern": {
              "fillmode": "overlay",
              "size": 10,
              "solidity": 0.2
             }
            },
            "type": "histogram"
           }
          ],
          "histogram2d": [
           {
            "colorbar": {
             "outlinewidth": 0,
             "ticks": ""
            },
            "colorscale": [
             [
              0,
              "#0d0887"
             ],
             [
              0.1111111111111111,
              "#46039f"
             ],
             [
              0.2222222222222222,
              "#7201a8"
             ],
             [
              0.3333333333333333,
              "#9c179e"
             ],
             [
              0.4444444444444444,
              "#bd3786"
             ],
             [
              0.5555555555555556,
              "#d8576b"
             ],
             [
              0.6666666666666666,
              "#ed7953"
             ],
             [
              0.7777777777777778,
              "#fb9f3a"
             ],
             [
              0.8888888888888888,
              "#fdca26"
             ],
             [
              1,
              "#f0f921"
             ]
            ],
            "type": "histogram2d"
           }
          ],
          "histogram2dcontour": [
           {
            "colorbar": {
             "outlinewidth": 0,
             "ticks": ""
            },
            "colorscale": [
             [
              0,
              "#0d0887"
             ],
             [
              0.1111111111111111,
              "#46039f"
             ],
             [
              0.2222222222222222,
              "#7201a8"
             ],
             [
              0.3333333333333333,
              "#9c179e"
             ],
             [
              0.4444444444444444,
              "#bd3786"
             ],
             [
              0.5555555555555556,
              "#d8576b"
             ],
             [
              0.6666666666666666,
              "#ed7953"
             ],
             [
              0.7777777777777778,
              "#fb9f3a"
             ],
             [
              0.8888888888888888,
              "#fdca26"
             ],
             [
              1,
              "#f0f921"
             ]
            ],
            "type": "histogram2dcontour"
           }
          ],
          "mesh3d": [
           {
            "colorbar": {
             "outlinewidth": 0,
             "ticks": ""
            },
            "type": "mesh3d"
           }
          ],
          "parcoords": [
           {
            "line": {
             "colorbar": {
              "outlinewidth": 0,
              "ticks": ""
             }
            },
            "type": "parcoords"
           }
          ],
          "pie": [
           {
            "automargin": true,
            "type": "pie"
           }
          ],
          "scatter": [
           {
            "marker": {
             "colorbar": {
              "outlinewidth": 0,
              "ticks": ""
             }
            },
            "type": "scatter"
           }
          ],
          "scatter3d": [
           {
            "line": {
             "colorbar": {
              "outlinewidth": 0,
              "ticks": ""
             }
            },
            "marker": {
             "colorbar": {
              "outlinewidth": 0,
              "ticks": ""
             }
            },
            "type": "scatter3d"
           }
          ],
          "scattercarpet": [
           {
            "marker": {
             "colorbar": {
              "outlinewidth": 0,
              "ticks": ""
             }
            },
            "type": "scattercarpet"
           }
          ],
          "scattergeo": [
           {
            "marker": {
             "colorbar": {
              "outlinewidth": 0,
              "ticks": ""
             }
            },
            "type": "scattergeo"
           }
          ],
          "scattergl": [
           {
            "marker": {
             "colorbar": {
              "outlinewidth": 0,
              "ticks": ""
             }
            },
            "type": "scattergl"
           }
          ],
          "scattermapbox": [
           {
            "marker": {
             "colorbar": {
              "outlinewidth": 0,
              "ticks": ""
             }
            },
            "type": "scattermapbox"
           }
          ],
          "scatterpolar": [
           {
            "marker": {
             "colorbar": {
              "outlinewidth": 0,
              "ticks": ""
             }
            },
            "type": "scatterpolar"
           }
          ],
          "scatterpolargl": [
           {
            "marker": {
             "colorbar": {
              "outlinewidth": 0,
              "ticks": ""
             }
            },
            "type": "scatterpolargl"
           }
          ],
          "scatterternary": [
           {
            "marker": {
             "colorbar": {
              "outlinewidth": 0,
              "ticks": ""
             }
            },
            "type": "scatterternary"
           }
          ],
          "surface": [
           {
            "colorbar": {
             "outlinewidth": 0,
             "ticks": ""
            },
            "colorscale": [
             [
              0,
              "#0d0887"
             ],
             [
              0.1111111111111111,
              "#46039f"
             ],
             [
              0.2222222222222222,
              "#7201a8"
             ],
             [
              0.3333333333333333,
              "#9c179e"
             ],
             [
              0.4444444444444444,
              "#bd3786"
             ],
             [
              0.5555555555555556,
              "#d8576b"
             ],
             [
              0.6666666666666666,
              "#ed7953"
             ],
             [
              0.7777777777777778,
              "#fb9f3a"
             ],
             [
              0.8888888888888888,
              "#fdca26"
             ],
             [
              1,
              "#f0f921"
             ]
            ],
            "type": "surface"
           }
          ],
          "table": [
           {
            "cells": {
             "fill": {
              "color": "#EBF0F8"
             },
             "line": {
              "color": "white"
             }
            },
            "header": {
             "fill": {
              "color": "#C8D4E3"
             },
             "line": {
              "color": "white"
             }
            },
            "type": "table"
           }
          ]
         },
         "layout": {
          "annotationdefaults": {
           "arrowcolor": "#2a3f5f",
           "arrowhead": 0,
           "arrowwidth": 1
          },
          "autotypenumbers": "strict",
          "coloraxis": {
           "colorbar": {
            "outlinewidth": 0,
            "ticks": ""
           }
          },
          "colorscale": {
           "diverging": [
            [
             0,
             "#8e0152"
            ],
            [
             0.1,
             "#c51b7d"
            ],
            [
             0.2,
             "#de77ae"
            ],
            [
             0.3,
             "#f1b6da"
            ],
            [
             0.4,
             "#fde0ef"
            ],
            [
             0.5,
             "#f7f7f7"
            ],
            [
             0.6,
             "#e6f5d0"
            ],
            [
             0.7,
             "#b8e186"
            ],
            [
             0.8,
             "#7fbc41"
            ],
            [
             0.9,
             "#4d9221"
            ],
            [
             1,
             "#276419"
            ]
           ],
           "sequential": [
            [
             0,
             "#0d0887"
            ],
            [
             0.1111111111111111,
             "#46039f"
            ],
            [
             0.2222222222222222,
             "#7201a8"
            ],
            [
             0.3333333333333333,
             "#9c179e"
            ],
            [
             0.4444444444444444,
             "#bd3786"
            ],
            [
             0.5555555555555556,
             "#d8576b"
            ],
            [
             0.6666666666666666,
             "#ed7953"
            ],
            [
             0.7777777777777778,
             "#fb9f3a"
            ],
            [
             0.8888888888888888,
             "#fdca26"
            ],
            [
             1,
             "#f0f921"
            ]
           ],
           "sequentialminus": [
            [
             0,
             "#0d0887"
            ],
            [
             0.1111111111111111,
             "#46039f"
            ],
            [
             0.2222222222222222,
             "#7201a8"
            ],
            [
             0.3333333333333333,
             "#9c179e"
            ],
            [
             0.4444444444444444,
             "#bd3786"
            ],
            [
             0.5555555555555556,
             "#d8576b"
            ],
            [
             0.6666666666666666,
             "#ed7953"
            ],
            [
             0.7777777777777778,
             "#fb9f3a"
            ],
            [
             0.8888888888888888,
             "#fdca26"
            ],
            [
             1,
             "#f0f921"
            ]
           ]
          },
          "colorway": [
           "#636efa",
           "#EF553B",
           "#00cc96",
           "#ab63fa",
           "#FFA15A",
           "#19d3f3",
           "#FF6692",
           "#B6E880",
           "#FF97FF",
           "#FECB52"
          ],
          "font": {
           "color": "#2a3f5f"
          },
          "geo": {
           "bgcolor": "white",
           "lakecolor": "white",
           "landcolor": "#E5ECF6",
           "showlakes": true,
           "showland": true,
           "subunitcolor": "white"
          },
          "hoverlabel": {
           "align": "left"
          },
          "hovermode": "closest",
          "mapbox": {
           "style": "light"
          },
          "paper_bgcolor": "white",
          "plot_bgcolor": "#E5ECF6",
          "polar": {
           "angularaxis": {
            "gridcolor": "white",
            "linecolor": "white",
            "ticks": ""
           },
           "bgcolor": "#E5ECF6",
           "radialaxis": {
            "gridcolor": "white",
            "linecolor": "white",
            "ticks": ""
           }
          },
          "scene": {
           "xaxis": {
            "backgroundcolor": "#E5ECF6",
            "gridcolor": "white",
            "gridwidth": 2,
            "linecolor": "white",
            "showbackground": true,
            "ticks": "",
            "zerolinecolor": "white"
           },
           "yaxis": {
            "backgroundcolor": "#E5ECF6",
            "gridcolor": "white",
            "gridwidth": 2,
            "linecolor": "white",
            "showbackground": true,
            "ticks": "",
            "zerolinecolor": "white"
           },
           "zaxis": {
            "backgroundcolor": "#E5ECF6",
            "gridcolor": "white",
            "gridwidth": 2,
            "linecolor": "white",
            "showbackground": true,
            "ticks": "",
            "zerolinecolor": "white"
           }
          },
          "shapedefaults": {
           "line": {
            "color": "#2a3f5f"
           }
          },
          "ternary": {
           "aaxis": {
            "gridcolor": "white",
            "linecolor": "white",
            "ticks": ""
           },
           "baxis": {
            "gridcolor": "white",
            "linecolor": "white",
            "ticks": ""
           },
           "bgcolor": "#E5ECF6",
           "caxis": {
            "gridcolor": "white",
            "linecolor": "white",
            "ticks": ""
           }
          },
          "title": {
           "x": 0.05
          },
          "xaxis": {
           "automargin": true,
           "gridcolor": "white",
           "linecolor": "white",
           "ticks": "",
           "title": {
            "standoff": 15
           },
           "zerolinecolor": "white",
           "zerolinewidth": 2
          },
          "yaxis": {
           "automargin": true,
           "gridcolor": "white",
           "linecolor": "white",
           "ticks": "",
           "title": {
            "standoff": 15
           },
           "zerolinecolor": "white",
           "zerolinewidth": 2
          }
         }
        },
        "title": {
         "text": "match1"
        },
        "width": 500
       }
      },
      "image/png": "[encoded data removed]",
      "text/html": [
       "<div>                            <div id=\"0eaa513e-d171-4601-ad94-e1b456277c36\" class=\"plotly-graph-div\" style=\"height:400px; width:500px;\"></div>            <script type=\"text/javascript\">                require([\"plotly\"], function(Plotly) {                    window.PLOTLYENV=window.PLOTLYENV || {};                                    if (document.getElementById(\"0eaa513e-d171-4601-ad94-e1b456277c36\")) {                    Plotly.newPlot(                        \"0eaa513e-d171-4601-ad94-e1b456277c36\",                        [{\"domain\":{\"x\":[0.0,1.0],\"y\":[0.0,1.0]},\"hovertemplate\":\"label=%{label}<extra></extra>\",\"labels\":[\"walk\",\"walk\",\"walk\",\"walk\",\"rest\",\"walk\",\"walk\",\"walk\",\"run\",\"run\",\"run\",\"run\",\"run\",\"run\",\"run\",\"run\",\"run\",\"run\",\"run\",\"run\",\"run\",\"run\",\"run\",\"walk\",\"walk\",\"walk\",\"walk\",\"tackle\",\"run\",\"run\",\"run\",\"run\",\"run\",\"run\",\"run\",\"walk\",\"walk\",\"walk\",\"run\",\"run\",\"run\",\"run\",\"run\",\"run\",\"run\",\"run\",\"run\",\"run\",\"run\",\"walk\",\"run\",\"run\",\"run\",\"run\",\"run\",\"walk\",\"run\",\"run\",\"tackle\",\"dribble\",\"run\",\"dribble\",\"pass\",\"pass\",\"walk\",\"walk\",\"walk\",\"walk\",\"walk\",\"walk\",\"walk\",\"walk\",\"walk\",\"walk\",\"walk\",\"walk\",\"walk\",\"run\",\"run\",\"run\",\"walk\",\"run\",\"walk\",\"walk\",\"run\",\"run\",\"rest\",\"walk\",\"walk\",\"walk\",\"walk\",\"walk\",\"walk\",\"rest\",\"walk\",\"run\",\"run\",\"run\",\"run\",\"dribble\",\"run\",\"pass\",\"run\",\"run\",\"run\",\"run\",\"walk\",\"run\",\"run\",\"run\",\"run\",\"run\",\"walk\",\"walk\",\"walk\",\"walk\",\"run\",\"run\",\"tackle\",\"tackle\",\"run\",\"run\",\"run\",\"walk\",\"run\",\"run\",\"run\",\"run\",\"run\",\"walk\",\"walk\",\"walk\",\"walk\",\"walk\",\"rest\",\"walk\",\"walk\",\"rest\",\"run\",\"run\",\"run\",\"run\",\"run\",\"dribble\",\"dribble\",\"dribble\",\"pass\",\"run\",\"run\",\"dribble\",\"pass\",\"run\",\"run\",\"run\",\"run\",\"walk\",\"walk\",\"walk\",\"rest\",\"run\",\"run\",\"dribble\",\"dribble\",\"dribble\",\"dribble\",\"cross\",\"pass\",\"walk\",\"walk\",\"walk\",\"run\",\"run\",\"run\",\"run\",\"walk\",\"dribble\",\"shot\",\"run\",\"shot\",\"walk\",\"walk\",\"walk\",\"rest\",\"walk\",\"run\",\"run\",\"run\",\"run\",\"run\",\"run\",\"run\",\"tackle\",\"run\",\"run\",\"pass\",\"walk\",\"walk\",\"run\",\"run\",\"walk\",\"walk\",\"walk\",\"walk\",\"walk\",\"walk\",\"walk\",\"walk\",\"walk\",\"walk\",\"run\",\"run\",\"run\",\"run\",\"run\",\"run\",\"run\",\"run\",\"run\",\"dribble\",\"shot\",\"shot\",\"run\",\"run\",\"run\",\"run\",\"run\",\"run\",\"run\",\"run\",\"dribble\",\"dribble\",\"dribble\",\"run\",\"run\",\"run\",\"run\",\"rest\",\"walk\",\"walk\",\"walk\",\"walk\",\"walk\",\"walk\",\"rest\",\"walk\",\"run\",\"run\",\"run\",\"tackle\",\"dribble\",\"dribble\",\"pass\",\"walk\",\"run\",\"run\",\"walk\",\"walk\",\"run\",\"run\",\"rest\",\"run\",\"run\",\"dribble\",\"dribble\",\"pass\",\"rest\",\"walk\",\"run\",\"run\",\"dribble\",\"pass\",\"walk\",\"walk\",\"walk\",\"walk\",\"walk\",\"walk\",\"walk\",\"walk\",\"walk\",\"rest\",\"walk\",\"walk\",\"walk\",\"walk\",\"walk\",\"walk\",\"walk\",\"walk\",\"walk\",\"walk\",\"walk\",\"walk\",\"walk\",\"walk\",\"walk\",\"walk\",\"rest\",\"walk\",\"run\",\"run\",\"tackle\",\"tackle\",\"tackle\",\"walk\",\"walk\",\"walk\",\"walk\",\"run\",\"run\",\"run\",\"walk\",\"walk\",\"walk\",\"walk\",\"walk\",\"walk\",\"rest\",\"walk\",\"walk\",\"walk\",\"walk\",\"walk\",\"walk\",\"walk\",\"walk\",\"walk\",\"run\",\"run\",\"rest\",\"walk\",\"walk\",\"run\",\"run\",\"tackle\",\"tackle\",\"run\",\"run\",\"tackle\",\"walk\",\"walk\",\"walk\",\"run\",\"run\",\"run\",\"run\",\"run\",\"run\",\"run\",\"run\",\"walk\",\"walk\",\"dribble\",\"pass\",\"run\",\"dribble\",\"walk\",\"dribble\",\"pass\",\"cross\",\"rest\",\"run\",\"run\",\"run\",\"run\",\"walk\",\"walk\",\"walk\",\"walk\",\"walk\",\"walk\",\"walk\",\"walk\",\"walk\",\"rest\",\"walk\",\"walk\",\"walk\",\"walk\",\"walk\",\"walk\",\"walk\",\"walk\",\"walk\",\"run\",\"run\",\"tackle\",\"tackle\",\"run\",\"run\",\"run\",\"run\",\"run\",\"run\",\"run\",\"run\",\"run\",\"run\",\"run\",\"run\",\"run\",\"run\",\"run\",\"run\",\"run\",\"walk\",\"walk\",\"rest\",\"walk\",\"dribble\",\"pass\",\"dribble\",\"run\",\"pass\",\"walk\",\"walk\",\"walk\",\"walk\",\"rest\",\"pass\",\"pass\",\"pass\",\"rest\",\"walk\",\"rest\",\"walk\",\"walk\",\"walk\",\"walk\",\"walk\",\"walk\",\"walk\",\"walk\",\"walk\",\"tackle\",\"tackle\",\"run\",\"dribble\",\"dribble\",\"pass\",\"pass\",\"walk\",\"walk\",\"walk\",\"walk\",\"walk\",\"walk\",\"walk\",\"walk\",\"rest\",\"walk\",\"run\",\"tackle\",\"walk\",\"walk\",\"walk\",\"walk\",\"walk\",\"walk\",\"walk\",\"walk\",\"run\",\"run\",\"run\",\"tackle\",\"walk\",\"walk\",\"pass\",\"pass\",\"walk\",\"walk\",\"walk\",\"walk\",\"dribble\",\"walk\",\"pass\",\"run\",\"run\",\"pass\",\"dribble\",\"dribble\",\"dribble\",\"run\",\"run\",\"dribble\",\"dribble\",\"cross\",\"walk\",\"walk\",\"walk\",\"walk\",\"walk\",\"walk\",\"walk\",\"run\",\"run\",\"dribble\",\"run\",\"shot\",\"shot\",\"walk\",\"walk\",\"walk\",\"walk\",\"walk\",\"walk\",\"walk\",\"rest\",\"walk\",\"walk\",\"walk\",\"walk\",\"walk\",\"walk\",\"run\",\"tackle\",\"run\",\"walk\",\"walk\",\"rest\",\"run\",\"run\",\"run\",\"run\",\"run\",\"walk\",\"walk\",\"walk\",\"run\",\"run\",\"run\",\"run\",\"run\",\"run\",\"run\",\"walk\",\"walk\",\"walk\",\"rest\",\"walk\",\"run\",\"run\",\"walk\",\"walk\",\"run\",\"dribble\",\"dribble\",\"dribble\",\"dribble\",\"dribble\",\"dribble\",\"dribble\",\"pass\",\"walk\",\"walk\",\"run\",\"run\",\"walk\",\"walk\",\"walk\",\"walk\",\"walk\",\"walk\",\"walk\",\"walk\",\"walk\",\"walk\",\"walk\",\"walk\",\"walk\",\"walk\",\"run\",\"tackle\",\"run\"],\"legendgroup\":\"\",\"name\":\"\",\"showlegend\":true,\"type\":\"pie\"}],                        {\"template\":{\"data\":{\"bar\":[{\"error_x\":{\"color\":\"#2a3f5f\"},\"error_y\":{\"color\":\"#2a3f5f\"},\"marker\":{\"line\":{\"color\":\"#E5ECF6\",\"width\":0.5},\"pattern\":{\"fillmode\":\"overlay\",\"size\":10,\"solidity\":0.2}},\"type\":\"bar\"}],\"barpolar\":[{\"marker\":{\"line\":{\"color\":\"#E5ECF6\",\"width\":0.5},\"pattern\":{\"fillmode\":\"overlay\",\"size\":10,\"solidity\":0.2}},\"type\":\"barpolar\"}],\"carpet\":[{\"aaxis\":{\"endlinecolor\":\"#2a3f5f\",\"gridcolor\":\"white\",\"linecolor\":\"white\",\"minorgridcolor\":\"white\",\"startlinecolor\":\"#2a3f5f\"},\"baxis\":{\"endlinecolor\":\"#2a3f5f\",\"gridcolor\":\"white\",\"linecolor\":\"white\",\"minorgridcolor\":\"white\",\"startlinecolor\":\"#2a3f5f\"},\"type\":\"carpet\"}],\"choropleth\":[{\"colorbar\":{\"outlinewidth\":0,\"ticks\":\"\"},\"type\":\"choropleth\"}],\"contour\":[{\"colorbar\":{\"outlinewidth\":0,\"ticks\":\"\"},\"colorscale\":[[0.0,\"#0d0887\"],[0.1111111111111111,\"#46039f\"],[0.2222222222222222,\"#7201a8\"],[0.3333333333333333,\"#9c179e\"],[0.4444444444444444,\"#bd3786\"],[0.5555555555555556,\"#d8576b\"],[0.6666666666666666,\"#ed7953\"],[0.7777777777777778,\"#fb9f3a\"],[0.8888888888888888,\"#fdca26\"],[1.0,\"#f0f921\"]],\"type\":\"contour\"}],\"contourcarpet\":[{\"colorbar\":{\"outlinewidth\":0,\"ticks\":\"\"},\"type\":\"contourcarpet\"}],\"heatmap\":[{\"colorbar\":{\"outlinewidth\":0,\"ticks\":\"\"},\"colorscale\":[[0.0,\"#0d0887\"],[0.1111111111111111,\"#46039f\"],[0.2222222222222222,\"#7201a8\"],[0.3333333333333333,\"#9c179e\"],[0.4444444444444444,\"#bd3786\"],[0.5555555555555556,\"#d8576b\"],[0.6666666666666666,\"#ed7953\"],[0.7777777777777778,\"#fb9f3a\"],[0.8888888888888888,\"#fdca26\"],[1.0,\"#f0f921\"]],\"type\":\"heatmap\"}],\"heatmapgl\":[{\"colorbar\":{\"outlinewidth\":0,\"ticks\":\"\"},\"colorscale\":[[0.0,\"#0d0887\"],[0.1111111111111111,\"#46039f\"],[0.2222222222222222,\"#7201a8\"],[0.3333333333333333,\"#9c179e\"],[0.4444444444444444,\"#bd3786\"],[0.5555555555555556,\"#d8576b\"],[0.6666666666666666,\"#ed7953\"],[0.7777777777777778,\"#fb9f3a\"],[0.8888888888888888,\"#fdca26\"],[1.0,\"#f0f921\"]],\"type\":\"heatmapgl\"}],\"histogram\":[{\"marker\":{\"pattern\":{\"fillmode\":\"overlay\",\"size\":10,\"solidity\":0.2}},\"type\":\"histogram\"}],\"histogram2d\":[{\"colorbar\":{\"outlinewidth\":0,\"ticks\":\"\"},\"colorscale\":[[0.0,\"#0d0887\"],[0.1111111111111111,\"#46039f\"],[0.2222222222222222,\"#7201a8\"],[0.3333333333333333,\"#9c179e\"],[0.4444444444444444,\"#bd3786\"],[0.5555555555555556,\"#d8576b\"],[0.6666666666666666,\"#ed7953\"],[0.7777777777777778,\"#fb9f3a\"],[0.8888888888888888,\"#fdca26\"],[1.0,\"#f0f921\"]],\"type\":\"histogram2d\"}],\"histogram2dcontour\":[{\"colorbar\":{\"outlinewidth\":0,\"ticks\":\"\"},\"colorscale\":[[0.0,\"#0d0887\"],[0.1111111111111111,\"#46039f\"],[0.2222222222222222,\"#7201a8\"],[0.3333333333333333,\"#9c179e\"],[0.4444444444444444,\"#bd3786\"],[0.5555555555555556,\"#d8576b\"],[0.6666666666666666,\"#ed7953\"],[0.7777777777777778,\"#fb9f3a\"],[0.8888888888888888,\"#fdca26\"],[1.0,\"#f0f921\"]],\"type\":\"histogram2dcontour\"}],\"mesh3d\":[{\"colorbar\":{\"outlinewidth\":0,\"ticks\":\"\"},\"type\":\"mesh3d\"}],\"parcoords\":[{\"line\":{\"colorbar\":{\"outlinewidth\":0,\"ticks\":\"\"}},\"type\":\"parcoords\"}],\"pie\":[{\"automargin\":true,\"type\":\"pie\"}],\"scatter\":[{\"marker\":{\"colorbar\":{\"outlinewidth\":0,\"ticks\":\"\"}},\"type\":\"scatter\"}],\"scatter3d\":[{\"line\":{\"colorbar\":{\"outlinewidth\":0,\"ticks\":\"\"}},\"marker\":{\"colorbar\":{\"outlinewidth\":0,\"ticks\":\"\"}},\"type\":\"scatter3d\"}],\"scattercarpet\":[{\"marker\":{\"colorbar\":{\"outlinewidth\":0,\"ticks\":\"\"}},\"type\":\"scattercarpet\"}],\"scattergeo\":[{\"marker\":{\"colorbar\":{\"outlinewidth\":0,\"ticks\":\"\"}},\"type\":\"scattergeo\"}],\"scattergl\":[{\"marker\":{\"colorbar\":{\"outlinewidth\":0,\"ticks\":\"\"}},\"type\":\"scattergl\"}],\"scattermapbox\":[{\"marker\":{\"colorbar\":{\"outlinewidth\":0,\"ticks\":\"\"}},\"type\":\"scattermapbox\"}],\"scatterpolar\":[{\"marker\":{\"colorbar\":{\"outlinewidth\":0,\"ticks\":\"\"}},\"type\":\"scatterpolar\"}],\"scatterpolargl\":[{\"marker\":{\"colorbar\":{\"outlinewidth\":0,\"ticks\":\"\"}},\"type\":\"scatterpolargl\"}],\"scatterternary\":[{\"marker\":{\"colorbar\":{\"outlinewidth\":0,\"ticks\":\"\"}},\"type\":\"scatterternary\"}],\"surface\":[{\"colorbar\":{\"outlinewidth\":0,\"ticks\":\"\"},\"colorscale\":[[0.0,\"#0d0887\"],[0.1111111111111111,\"#46039f\"],[0.2222222222222222,\"#7201a8\"],[0.3333333333333333,\"#9c179e\"],[0.4444444444444444,\"#bd3786\"],[0.5555555555555556,\"#d8576b\"],[0.6666666666666666,\"#ed7953\"],[0.7777777777777778,\"#fb9f3a\"],[0.8888888888888888,\"#fdca26\"],[1.0,\"#f0f921\"]],\"type\":\"surface\"}],\"table\":[{\"cells\":{\"fill\":{\"color\":\"#EBF0F8\"},\"line\":{\"color\":\"white\"}},\"header\":{\"fill\":{\"color\":\"#C8D4E3\"},\"line\":{\"color\":\"white\"}},\"type\":\"table\"}]},\"layout\":{\"annotationdefaults\":{\"arrowcolor\":\"#2a3f5f\",\"arrowhead\":0,\"arrowwidth\":1},\"autotypenumbers\":\"strict\",\"coloraxis\":{\"colorbar\":{\"outlinewidth\":0,\"ticks\":\"\"}},\"colorscale\":{\"diverging\":[[0,\"#8e0152\"],[0.1,\"#c51b7d\"],[0.2,\"#de77ae\"],[0.3,\"#f1b6da\"],[0.4,\"#fde0ef\"],[0.5,\"#f7f7f7\"],[0.6,\"#e6f5d0\"],[0.7,\"#b8e186\"],[0.8,\"#7fbc41\"],[0.9,\"#4d9221\"],[1,\"#276419\"]],\"sequential\":[[0.0,\"#0d0887\"],[0.1111111111111111,\"#46039f\"],[0.2222222222222222,\"#7201a8\"],[0.3333333333333333,\"#9c179e\"],[0.4444444444444444,\"#bd3786\"],[0.5555555555555556,\"#d8576b\"],[0.6666666666666666,\"#ed7953\"],[0.7777777777777778,\"#fb9f3a\"],[0.8888888888888888,\"#fdca26\"],[1.0,\"#f0f921\"]],\"sequentialminus\":[[0.0,\"#0d0887\"],[0.1111111111111111,\"#46039f\"],[0.2222222222222222,\"#7201a8\"],[0.3333333333333333,\"#9c179e\"],[0.4444444444444444,\"#bd3786\"],[0.5555555555555556,\"#d8576b\"],[0.6666666666666666,\"#ed7953\"],[0.7777777777777778,\"#fb9f3a\"],[0.8888888888888888,\"#fdca26\"],[1.0,\"#f0f921\"]]},\"colorway\":[\"#636efa\",\"#EF553B\",\"#00cc96\",\"#ab63fa\",\"#FFA15A\",\"#19d3f3\",\"#FF6692\",\"#B6E880\",\"#FF97FF\",\"#FECB52\"],\"font\":{\"color\":\"#2a3f5f\"},\"geo\":{\"bgcolor\":\"white\",\"lakecolor\":\"white\",\"landcolor\":\"#E5ECF6\",\"showlakes\":true,\"showland\":true,\"subunitcolor\":\"white\"},\"hoverlabel\":{\"align\":\"left\"},\"hovermode\":\"closest\",\"mapbox\":{\"style\":\"light\"},\"paper_bgcolor\":\"white\",\"plot_bgcolor\":\"#E5ECF6\",\"polar\":{\"angularaxis\":{\"gridcolor\":\"white\",\"linecolor\":\"white\",\"ticks\":\"\"},\"bgcolor\":\"#E5ECF6\",\"radialaxis\":{\"gridcolor\":\"white\",\"linecolor\":\"white\",\"ticks\":\"\"}},\"scene\":{\"xaxis\":{\"backgroundcolor\":\"#E5ECF6\",\"gridcolor\":\"white\",\"gridwidth\":2,\"linecolor\":\"white\",\"showbackground\":true,\"ticks\":\"\",\"zerolinecolor\":\"white\"},\"yaxis\":{\"backgroundcolor\":\"#E5ECF6\",\"gridcolor\":\"white\",\"gridwidth\":2,\"linecolor\":\"white\",\"showbackground\":true,\"ticks\":\"\",\"zerolinecolor\":\"white\"},\"zaxis\":{\"backgroundcolor\":\"#E5ECF6\",\"gridcolor\":\"white\",\"gridwidth\":2,\"linecolor\":\"white\",\"showbackground\":true,\"ticks\":\"\",\"zerolinecolor\":\"white\"}},\"shapedefaults\":{\"line\":{\"color\":\"#2a3f5f\"}},\"ternary\":{\"aaxis\":{\"gridcolor\":\"white\",\"linecolor\":\"white\",\"ticks\":\"\"},\"baxis\":{\"gridcolor\":\"white\",\"linecolor\":\"white\",\"ticks\":\"\"},\"bgcolor\":\"#E5ECF6\",\"caxis\":{\"gridcolor\":\"white\",\"linecolor\":\"white\",\"ticks\":\"\"}},\"title\":{\"x\":0.05},\"xaxis\":{\"automargin\":true,\"gridcolor\":\"white\",\"linecolor\":\"white\",\"ticks\":\"\",\"title\":{\"standoff\":15},\"zerolinecolor\":\"white\",\"zerolinewidth\":2},\"yaxis\":{\"automargin\":true,\"gridcolor\":\"white\",\"linecolor\":\"white\",\"ticks\":\"\",\"title\":{\"standoff\":15},\"zerolinecolor\":\"white\",\"zerolinewidth\":2}}},\"legend\":{\"tracegroupgap\":0},\"margin\":{\"t\":60},\"title\":{\"text\":\"match1\"},\"width\":500,\"height\":400},                        {\"responsive\": true}                    ).then(function(){\n",
       "                            \n",
       "var gd = document.getElementById('0eaa513e-d171-4601-ad94-e1b456277c36');\n",
       "var x = new MutationObserver(function (mutations, observer) {{\n",
       "        var display = window.getComputedStyle(gd).display;\n",
       "        if (!display || display === 'none') {{\n",
       "            console.log([gd, 'removed!']);\n",
       "            Plotly.purge(gd);\n",
       "            observer.disconnect();\n",
       "        }}\n",
       "}});\n",
       "\n",
       "// Listen for the removal of the full notebook cells\n",
       "var notebookContainer = gd.closest('#notebook-container');\n",
       "if (notebookContainer) {{\n",
       "    x.observe(notebookContainer, {childList: true});\n",
       "}}\n",
       "\n",
       "// Listen for the clearing of the current output cell\n",
       "var outputEl = gd.closest('.output');\n",
       "if (outputEl) {{\n",
       "    x.observe(outputEl, {childList: true});\n",
       "}}\n",
       "\n",
       "                        })                };                });            </script>        </div>"
      ]
     },
     "metadata": {},
     "output_type": "display_data"
    }
   ],
   "source": [
    "fig=px.pie(df1, names=\"label\")\n",
    "\n",
    "fig.update_layout(title='match1',\n",
    "                  width=500,\n",
    "                  height=400)\n",
    "\n",
    "fig.show()"
   ]
  },
  {
   "cell_type": "code",
   "execution_count": 29,
   "id": "e0596787-9f9f-4a50-8a08-c2f163ba9c47",
   "metadata": {},
   "outputs": [
    {
     "data": {
      "application/vnd.plotly.v1+json": {
       "config": {
        "plotlyServerURL": "https://plot.ly"
       },
       "data": [
        {
         "domain": {
          "x": [
           0,
           1
          ],
          "y": [
           0,
           1
          ]
         },
         "hovertemplate": "label=%{label}<extra></extra>",
         "labels": [
          "no action",
          "run",
          "pass",
          "rest",
          "walk",
          "run",
          "run",
          "run",
          "run",
          "run",
          "run",
          "run",
          "run",
          "run",
          "run",
          "run",
          "run",
          "run",
          "run",
          "run",
          "run",
          "run",
          "walk",
          "walk",
          "walk",
          "run",
          "walk",
          "walk",
          "run",
          "run",
          "run",
          "run",
          "walk",
          "walk",
          "walk",
          "walk",
          "walk",
          "dribble",
          "dribble",
          "dribble",
          "shot",
          "dribble",
          "shot",
          "walk",
          "walk",
          "tackle",
          "dribble",
          "dribble",
          "cross",
          "run",
          "run",
          "run",
          "run",
          "walk",
          "dribble",
          "pass",
          "dribble",
          "pass",
          "walk",
          "rest",
          "run",
          "run",
          "run",
          "run",
          "run",
          "walk",
          "walk",
          "walk",
          "run",
          "run",
          "tackle",
          "run",
          "tackle",
          "run",
          "run",
          "run",
          "run",
          "run",
          "tackle",
          "tackle",
          "run",
          "run",
          "run",
          "run",
          "run",
          "walk",
          "walk",
          "walk",
          "walk",
          "run",
          "run",
          "run",
          "dribble",
          "shot",
          "shot",
          "run",
          "run",
          "run",
          "run",
          "run",
          "run",
          "run",
          "run",
          "walk",
          "walk",
          "walk",
          "walk",
          "run",
          "run",
          "run",
          "run",
          "run",
          "run",
          "run",
          "run",
          "run",
          "walk",
          "walk",
          "walk",
          "run",
          "run",
          "run",
          "run",
          "run",
          "walk",
          "walk",
          "walk",
          "tackle",
          "walk",
          "walk",
          "walk",
          "walk",
          "run",
          "run",
          "run",
          "run",
          "run",
          "run",
          "walk",
          "walk",
          "walk",
          "walk",
          "walk",
          "run",
          "run",
          "run",
          "run",
          "run",
          "run",
          "run",
          "run",
          "run",
          "run",
          "run",
          "run",
          "run",
          "run",
          "run",
          "run",
          "run",
          "run",
          "run",
          "run",
          "walk",
          "walk",
          "walk",
          "walk",
          "rest",
          "walk",
          "walk",
          "run",
          "run",
          "walk",
          "run",
          "run",
          "run",
          "dribble",
          "shot",
          "walk",
          "walk",
          "run",
          "run",
          "run",
          "run",
          "run",
          "run",
          "run",
          "run",
          "run",
          "run",
          "walk",
          "walk",
          "walk",
          "walk",
          "walk",
          "run",
          "run",
          "run",
          "run",
          "walk",
          "run",
          "run",
          "run",
          "run",
          "run",
          "run",
          "run",
          "run",
          "run",
          "walk",
          "walk",
          "walk",
          "run",
          "run",
          "run",
          "run",
          "run",
          "run",
          "run",
          "run",
          "run",
          "run",
          "run",
          "run",
          "run",
          "run",
          "run",
          "run",
          "run",
          "run",
          "run",
          "run",
          "run",
          "run",
          "run",
          "run",
          "walk",
          "run",
          "run",
          "run",
          "run",
          "walk",
          "run",
          "walk",
          "walk",
          "run",
          "run",
          "run",
          "run",
          "dribble",
          "dribble",
          "dribble",
          "dribble",
          "dribble",
          "pass",
          "run",
          "run",
          "run",
          "run",
          "run",
          "run",
          "run",
          "run",
          "run",
          "run",
          "walk",
          "walk",
          "run",
          "run",
          "run",
          "run",
          "run",
          "dribble",
          "dribble",
          "dribble",
          "pass",
          "run",
          "run",
          "run",
          "walk",
          "run",
          "run",
          "run",
          "run",
          "run",
          "run",
          "run",
          "run",
          "run",
          "tackle",
          "run",
          "run",
          "run",
          "run",
          "run",
          "run",
          "run",
          "walk",
          "walk",
          "walk",
          "walk",
          "walk",
          "walk",
          "run",
          "run",
          "run",
          "run",
          "tackle",
          "run",
          "walk",
          "walk",
          "walk",
          "walk",
          "tackle",
          "run",
          "run",
          "run",
          "walk",
          "walk",
          "walk",
          "walk",
          "run",
          "run",
          "run",
          "run",
          "run",
          "run",
          "run",
          "run",
          "run",
          "run",
          "run",
          "run",
          "run",
          "run",
          "run",
          "run",
          "run",
          "run",
          "run",
          "run",
          "run",
          "dribble",
          "shot",
          "shot",
          "walk",
          "walk",
          "run",
          "run",
          "run",
          "run",
          "run",
          "run",
          "run",
          "walk",
          "walk",
          "walk",
          "walk",
          "walk",
          "walk",
          "run",
          "run",
          "run",
          "run",
          "dribble",
          "dribble",
          "dribble",
          "dribble",
          "run",
          "run",
          "run",
          "run",
          "walk",
          "walk",
          "run",
          "run",
          "run",
          "run",
          "run",
          "run",
          "run",
          "run",
          "run",
          "walk",
          "walk",
          "run",
          "run",
          "run",
          "run",
          "walk",
          "run",
          "run",
          "run",
          "run",
          "walk",
          "walk",
          "run",
          "dribble",
          "walk",
          "walk",
          "walk",
          "walk",
          "walk",
          "rest",
          "walk",
          "rest",
          "walk",
          "walk",
          "run",
          "run",
          "run",
          "run",
          "tackle",
          "run",
          "tackle",
          "dribble",
          "dribble",
          "dribble",
          "dribble",
          "dribble",
          "pass",
          "dribble",
          "pass",
          "run",
          "run",
          "run",
          "run",
          "run",
          "walk",
          "rest",
          "walk",
          "walk",
          "walk",
          "walk",
          "run",
          "run",
          "run",
          "run",
          "dribble",
          "dribble",
          "dribble",
          "dribble",
          "run",
          "run",
          "run",
          "run",
          "run",
          "walk",
          "walk",
          "walk",
          "walk",
          "walk",
          "walk",
          "walk",
          "walk",
          "walk",
          "rest",
          "walk",
          "run",
          "walk",
          "walk",
          "walk",
          "walk",
          "walk",
          "run",
          "run",
          "run",
          "run",
          "run",
          "run",
          "walk",
          "walk",
          "walk",
          "walk",
          "run",
          "walk",
          "walk",
          "run",
          "run",
          "run",
          "run",
          "walk",
          "run",
          "run",
          "run",
          "run",
          "run",
          "run",
          "run",
          "run",
          "run",
          "run",
          "walk",
          "walk",
          "run",
          "run",
          "run",
          "run",
          "walk",
          "walk",
          "walk",
          "walk",
          "walk",
          "walk",
          "walk",
          "rest",
          "walk",
          "walk",
          "dribble",
          "dribble",
          "pass",
          "run",
          "run",
          "run",
          "run",
          "run",
          "walk",
          "run",
          "run",
          "run",
          "run",
          "run",
          "shot",
          "shot",
          "no action",
          "walk",
          "walk",
          "walk",
          "walk",
          "run",
          "run",
          "walk",
          "walk",
          "walk",
          "walk",
          "walk",
          "walk",
          "walk",
          "walk",
          "walk",
          "rest",
          "walk",
          "walk",
          "walk",
          "walk",
          "walk",
          "run",
          "run",
          "walk",
          "walk",
          "rest",
          "walk",
          "walk",
          "walk",
          "walk",
          "walk",
          "walk",
          "walk",
          "walk",
          "walk",
          "walk",
          "walk",
          "walk",
          "walk",
          "walk",
          "walk",
          "walk",
          "run",
          "run",
          "run",
          "run",
          "run",
          "run",
          "run",
          "run",
          "run",
          "run",
          "run",
          "run",
          "run",
          "run",
          "run",
          "run",
          "run",
          "run",
          "run",
          "run",
          "run",
          "run",
          "run",
          "run",
          "run",
          "run",
          "run",
          "run",
          "run",
          "run",
          "shot",
          "shot",
          "run",
          "shot",
          "walk",
          "walk",
          "walk",
          "walk",
          "walk",
          "walk",
          "walk",
          "walk",
          "walk",
          "walk",
          "walk",
          "walk"
         ],
         "legendgroup": "",
         "name": "",
         "showlegend": true,
         "type": "pie"
        }
       ],
       "layout": {
        "height": 400,
        "legend": {
         "tracegroupgap": 0
        },
        "margin": {
         "t": 60
        },
        "template": {
         "data": {
          "bar": [
           {
            "error_x": {
             "color": "#2a3f5f"
            },
            "error_y": {
             "color": "#2a3f5f"
            },
            "marker": {
             "line": {
              "color": "#E5ECF6",
              "width": 0.5
             },
             "pattern": {
              "fillmode": "overlay",
              "size": 10,
              "solidity": 0.2
             }
            },
            "type": "bar"
           }
          ],
          "barpolar": [
           {
            "marker": {
             "line": {
              "color": "#E5ECF6",
              "width": 0.5
             },
             "pattern": {
              "fillmode": "overlay",
              "size": 10,
              "solidity": 0.2
             }
            },
            "type": "barpolar"
           }
          ],
          "carpet": [
           {
            "aaxis": {
             "endlinecolor": "#2a3f5f",
             "gridcolor": "white",
             "linecolor": "white",
             "minorgridcolor": "white",
             "startlinecolor": "#2a3f5f"
            },
            "baxis": {
             "endlinecolor": "#2a3f5f",
             "gridcolor": "white",
             "linecolor": "white",
             "minorgridcolor": "white",
             "startlinecolor": "#2a3f5f"
            },
            "type": "carpet"
           }
          ],
          "choropleth": [
           {
            "colorbar": {
             "outlinewidth": 0,
             "ticks": ""
            },
            "type": "choropleth"
           }
          ],
          "contour": [
           {
            "colorbar": {
             "outlinewidth": 0,
             "ticks": ""
            },
            "colorscale": [
             [
              0,
              "#0d0887"
             ],
             [
              0.1111111111111111,
              "#46039f"
             ],
             [
              0.2222222222222222,
              "#7201a8"
             ],
             [
              0.3333333333333333,
              "#9c179e"
             ],
             [
              0.4444444444444444,
              "#bd3786"
             ],
             [
              0.5555555555555556,
              "#d8576b"
             ],
             [
              0.6666666666666666,
              "#ed7953"
             ],
             [
              0.7777777777777778,
              "#fb9f3a"
             ],
             [
              0.8888888888888888,
              "#fdca26"
             ],
             [
              1,
              "#f0f921"
             ]
            ],
            "type": "contour"
           }
          ],
          "contourcarpet": [
           {
            "colorbar": {
             "outlinewidth": 0,
             "ticks": ""
            },
            "type": "contourcarpet"
           }
          ],
          "heatmap": [
           {
            "colorbar": {
             "outlinewidth": 0,
             "ticks": ""
            },
            "colorscale": [
             [
              0,
              "#0d0887"
             ],
             [
              0.1111111111111111,
              "#46039f"
             ],
             [
              0.2222222222222222,
              "#7201a8"
             ],
             [
              0.3333333333333333,
              "#9c179e"
             ],
             [
              0.4444444444444444,
              "#bd3786"
             ],
             [
              0.5555555555555556,
              "#d8576b"
             ],
             [
              0.6666666666666666,
              "#ed7953"
             ],
             [
              0.7777777777777778,
              "#fb9f3a"
             ],
             [
              0.8888888888888888,
              "#fdca26"
             ],
             [
              1,
              "#f0f921"
             ]
            ],
            "type": "heatmap"
           }
          ],
          "heatmapgl": [
           {
            "colorbar": {
             "outlinewidth": 0,
             "ticks": ""
            },
            "colorscale": [
             [
              0,
              "#0d0887"
             ],
             [
              0.1111111111111111,
              "#46039f"
             ],
             [
              0.2222222222222222,
              "#7201a8"
             ],
             [
              0.3333333333333333,
              "#9c179e"
             ],
             [
              0.4444444444444444,
              "#bd3786"
             ],
             [
              0.5555555555555556,
              "#d8576b"
             ],
             [
              0.6666666666666666,
              "#ed7953"
             ],
             [
              0.7777777777777778,
              "#fb9f3a"
             ],
             [
              0.8888888888888888,
              "#fdca26"
             ],
             [
              1,
              "#f0f921"
             ]
            ],
            "type": "heatmapgl"
           }
          ],
          "histogram": [
           {
            "marker": {
             "pattern": {
              "fillmode": "overlay",
              "size": 10,
              "solidity": 0.2
             }
            },
            "type": "histogram"
           }
          ],
          "histogram2d": [
           {
            "colorbar": {
             "outlinewidth": 0,
             "ticks": ""
            },
            "colorscale": [
             [
              0,
              "#0d0887"
             ],
             [
              0.1111111111111111,
              "#46039f"
             ],
             [
              0.2222222222222222,
              "#7201a8"
             ],
             [
              0.3333333333333333,
              "#9c179e"
             ],
             [
              0.4444444444444444,
              "#bd3786"
             ],
             [
              0.5555555555555556,
              "#d8576b"
             ],
             [
              0.6666666666666666,
              "#ed7953"
             ],
             [
              0.7777777777777778,
              "#fb9f3a"
             ],
             [
              0.8888888888888888,
              "#fdca26"
             ],
             [
              1,
              "#f0f921"
             ]
            ],
            "type": "histogram2d"
           }
          ],
          "histogram2dcontour": [
           {
            "colorbar": {
             "outlinewidth": 0,
             "ticks": ""
            },
            "colorscale": [
             [
              0,
              "#0d0887"
             ],
             [
              0.1111111111111111,
              "#46039f"
             ],
             [
              0.2222222222222222,
              "#7201a8"
             ],
             [
              0.3333333333333333,
              "#9c179e"
             ],
             [
              0.4444444444444444,
              "#bd3786"
             ],
             [
              0.5555555555555556,
              "#d8576b"
             ],
             [
              0.6666666666666666,
              "#ed7953"
             ],
             [
              0.7777777777777778,
              "#fb9f3a"
             ],
             [
              0.8888888888888888,
              "#fdca26"
             ],
             [
              1,
              "#f0f921"
             ]
            ],
            "type": "histogram2dcontour"
           }
          ],
          "mesh3d": [
           {
            "colorbar": {
             "outlinewidth": 0,
             "ticks": ""
            },
            "type": "mesh3d"
           }
          ],
          "parcoords": [
           {
            "line": {
             "colorbar": {
              "outlinewidth": 0,
              "ticks": ""
             }
            },
            "type": "parcoords"
           }
          ],
          "pie": [
           {
            "automargin": true,
            "type": "pie"
           }
          ],
          "scatter": [
           {
            "marker": {
             "colorbar": {
              "outlinewidth": 0,
              "ticks": ""
             }
            },
            "type": "scatter"
           }
          ],
          "scatter3d": [
           {
            "line": {
             "colorbar": {
              "outlinewidth": 0,
              "ticks": ""
             }
            },
            "marker": {
             "colorbar": {
              "outlinewidth": 0,
              "ticks": ""
             }
            },
            "type": "scatter3d"
           }
          ],
          "scattercarpet": [
           {
            "marker": {
             "colorbar": {
              "outlinewidth": 0,
              "ticks": ""
             }
            },
            "type": "scattercarpet"
           }
          ],
          "scattergeo": [
           {
            "marker": {
             "colorbar": {
              "outlinewidth": 0,
              "ticks": ""
             }
            },
            "type": "scattergeo"
           }
          ],
          "scattergl": [
           {
            "marker": {
             "colorbar": {
              "outlinewidth": 0,
              "ticks": ""
             }
            },
            "type": "scattergl"
           }
          ],
          "scattermapbox": [
           {
            "marker": {
             "colorbar": {
              "outlinewidth": 0,
              "ticks": ""
             }
            },
            "type": "scattermapbox"
           }
          ],
          "scatterpolar": [
           {
            "marker": {
             "colorbar": {
              "outlinewidth": 0,
              "ticks": ""
             }
            },
            "type": "scatterpolar"
           }
          ],
          "scatterpolargl": [
           {
            "marker": {
             "colorbar": {
              "outlinewidth": 0,
              "ticks": ""
             }
            },
            "type": "scatterpolargl"
           }
          ],
          "scatterternary": [
           {
            "marker": {
             "colorbar": {
              "outlinewidth": 0,
              "ticks": ""
             }
            },
            "type": "scatterternary"
           }
          ],
          "surface": [
           {
            "colorbar": {
             "outlinewidth": 0,
             "ticks": ""
            },
            "colorscale": [
             [
              0,
              "#0d0887"
             ],
             [
              0.1111111111111111,
              "#46039f"
             ],
             [
              0.2222222222222222,
              "#7201a8"
             ],
             [
              0.3333333333333333,
              "#9c179e"
             ],
             [
              0.4444444444444444,
              "#bd3786"
             ],
             [
              0.5555555555555556,
              "#d8576b"
             ],
             [
              0.6666666666666666,
              "#ed7953"
             ],
             [
              0.7777777777777778,
              "#fb9f3a"
             ],
             [
              0.8888888888888888,
              "#fdca26"
             ],
             [
              1,
              "#f0f921"
             ]
            ],
            "type": "surface"
           }
          ],
          "table": [
           {
            "cells": {
             "fill": {
              "color": "#EBF0F8"
             },
             "line": {
              "color": "white"
             }
            },
            "header": {
             "fill": {
              "color": "#C8D4E3"
             },
             "line": {
              "color": "white"
             }
            },
            "type": "table"
           }
          ]
         },
         "layout": {
          "annotationdefaults": {
           "arrowcolor": "#2a3f5f",
           "arrowhead": 0,
           "arrowwidth": 1
          },
          "autotypenumbers": "strict",
          "coloraxis": {
           "colorbar": {
            "outlinewidth": 0,
            "ticks": ""
           }
          },
          "colorscale": {
           "diverging": [
            [
             0,
             "#8e0152"
            ],
            [
             0.1,
             "#c51b7d"
            ],
            [
             0.2,
             "#de77ae"
            ],
            [
             0.3,
             "#f1b6da"
            ],
            [
             0.4,
             "#fde0ef"
            ],
            [
             0.5,
             "#f7f7f7"
            ],
            [
             0.6,
             "#e6f5d0"
            ],
            [
             0.7,
             "#b8e186"
            ],
            [
             0.8,
             "#7fbc41"
            ],
            [
             0.9,
             "#4d9221"
            ],
            [
             1,
             "#276419"
            ]
           ],
           "sequential": [
            [
             0,
             "#0d0887"
            ],
            [
             0.1111111111111111,
             "#46039f"
            ],
            [
             0.2222222222222222,
             "#7201a8"
            ],
            [
             0.3333333333333333,
             "#9c179e"
            ],
            [
             0.4444444444444444,
             "#bd3786"
            ],
            [
             0.5555555555555556,
             "#d8576b"
            ],
            [
             0.6666666666666666,
             "#ed7953"
            ],
            [
             0.7777777777777778,
             "#fb9f3a"
            ],
            [
             0.8888888888888888,
             "#fdca26"
            ],
            [
             1,
             "#f0f921"
            ]
           ],
           "sequentialminus": [
            [
             0,
             "#0d0887"
            ],
            [
             0.1111111111111111,
             "#46039f"
            ],
            [
             0.2222222222222222,
             "#7201a8"
            ],
            [
             0.3333333333333333,
             "#9c179e"
            ],
            [
             0.4444444444444444,
             "#bd3786"
            ],
            [
             0.5555555555555556,
             "#d8576b"
            ],
            [
             0.6666666666666666,
             "#ed7953"
            ],
            [
             0.7777777777777778,
             "#fb9f3a"
            ],
            [
             0.8888888888888888,
             "#fdca26"
            ],
            [
             1,
             "#f0f921"
            ]
           ]
          },
          "colorway": [
           "#636efa",
           "#EF553B",
           "#00cc96",
           "#ab63fa",
           "#FFA15A",
           "#19d3f3",
           "#FF6692",
           "#B6E880",
           "#FF97FF",
           "#FECB52"
          ],
          "font": {
           "color": "#2a3f5f"
          },
          "geo": {
           "bgcolor": "white",
           "lakecolor": "white",
           "landcolor": "#E5ECF6",
           "showlakes": true,
           "showland": true,
           "subunitcolor": "white"
          },
          "hoverlabel": {
           "align": "left"
          },
          "hovermode": "closest",
          "mapbox": {
           "style": "light"
          },
          "paper_bgcolor": "white",
          "plot_bgcolor": "#E5ECF6",
          "polar": {
           "angularaxis": {
            "gridcolor": "white",
            "linecolor": "white",
            "ticks": ""
           },
           "bgcolor": "#E5ECF6",
           "radialaxis": {
            "gridcolor": "white",
            "linecolor": "white",
            "ticks": ""
           }
          },
          "scene": {
           "xaxis": {
            "backgroundcolor": "#E5ECF6",
            "gridcolor": "white",
            "gridwidth": 2,
            "linecolor": "white",
            "showbackground": true,
            "ticks": "",
            "zerolinecolor": "white"
           },
           "yaxis": {
            "backgroundcolor": "#E5ECF6",
            "gridcolor": "white",
            "gridwidth": 2,
            "linecolor": "white",
            "showbackground": true,
            "ticks": "",
            "zerolinecolor": "white"
           },
           "zaxis": {
            "backgroundcolor": "#E5ECF6",
            "gridcolor": "white",
            "gridwidth": 2,
            "linecolor": "white",
            "showbackground": true,
            "ticks": "",
            "zerolinecolor": "white"
           }
          },
          "shapedefaults": {
           "line": {
            "color": "#2a3f5f"
           }
          },
          "ternary": {
           "aaxis": {
            "gridcolor": "white",
            "linecolor": "white",
            "ticks": ""
           },
           "baxis": {
            "gridcolor": "white",
            "linecolor": "white",
            "ticks": ""
           },
           "bgcolor": "#E5ECF6",
           "caxis": {
            "gridcolor": "white",
            "linecolor": "white",
            "ticks": ""
           }
          },
          "title": {
           "x": 0.05
          },
          "xaxis": {
           "automargin": true,
           "gridcolor": "white",
           "linecolor": "white",
           "ticks": "",
           "title": {
            "standoff": 15
           },
           "zerolinecolor": "white",
           "zerolinewidth": 2
          },
          "yaxis": {
           "automargin": true,
           "gridcolor": "white",
           "linecolor": "white",
           "ticks": "",
           "title": {
            "standoff": 15
           },
           "zerolinecolor": "white",
           "zerolinewidth": 2
          }
         }
        },
        "title": {
         "text": "match2"
        },
        "width": 500
       }
      },
      "image/png": "[encoded data removed]",
      "text/html": [
       "<div>                            <div id=\"93f88b47-f15f-492d-af82-5123a1f090bb\" class=\"plotly-graph-div\" style=\"height:400px; width:500px;\"></div>            <script type=\"text/javascript\">                require([\"plotly\"], function(Plotly) {                    window.PLOTLYENV=window.PLOTLYENV || {};                                    if (document.getElementById(\"93f88b47-f15f-492d-af82-5123a1f090bb\")) {                    Plotly.newPlot(                        \"93f88b47-f15f-492d-af82-5123a1f090bb\",                        [{\"domain\":{\"x\":[0.0,1.0],\"y\":[0.0,1.0]},\"hovertemplate\":\"label=%{label}<extra></extra>\",\"labels\":[\"no action\",\"run\",\"pass\",\"rest\",\"walk\",\"run\",\"run\",\"run\",\"run\",\"run\",\"run\",\"run\",\"run\",\"run\",\"run\",\"run\",\"run\",\"run\",\"run\",\"run\",\"run\",\"run\",\"walk\",\"walk\",\"walk\",\"run\",\"walk\",\"walk\",\"run\",\"run\",\"run\",\"run\",\"walk\",\"walk\",\"walk\",\"walk\",\"walk\",\"dribble\",\"dribble\",\"dribble\",\"shot\",\"dribble\",\"shot\",\"walk\",\"walk\",\"tackle\",\"dribble\",\"dribble\",\"cross\",\"run\",\"run\",\"run\",\"run\",\"walk\",\"dribble\",\"pass\",\"dribble\",\"pass\",\"walk\",\"rest\",\"run\",\"run\",\"run\",\"run\",\"run\",\"walk\",\"walk\",\"walk\",\"run\",\"run\",\"tackle\",\"run\",\"tackle\",\"run\",\"run\",\"run\",\"run\",\"run\",\"tackle\",\"tackle\",\"run\",\"run\",\"run\",\"run\",\"run\",\"walk\",\"walk\",\"walk\",\"walk\",\"run\",\"run\",\"run\",\"dribble\",\"shot\",\"shot\",\"run\",\"run\",\"run\",\"run\",\"run\",\"run\",\"run\",\"run\",\"walk\",\"walk\",\"walk\",\"walk\",\"run\",\"run\",\"run\",\"run\",\"run\",\"run\",\"run\",\"run\",\"run\",\"walk\",\"walk\",\"walk\",\"run\",\"run\",\"run\",\"run\",\"run\",\"walk\",\"walk\",\"walk\",\"tackle\",\"walk\",\"walk\",\"walk\",\"walk\",\"run\",\"run\",\"run\",\"run\",\"run\",\"run\",\"walk\",\"walk\",\"walk\",\"walk\",\"walk\",\"run\",\"run\",\"run\",\"run\",\"run\",\"run\",\"run\",\"run\",\"run\",\"run\",\"run\",\"run\",\"run\",\"run\",\"run\",\"run\",\"run\",\"run\",\"run\",\"run\",\"walk\",\"walk\",\"walk\",\"walk\",\"rest\",\"walk\",\"walk\",\"run\",\"run\",\"walk\",\"run\",\"run\",\"run\",\"dribble\",\"shot\",\"walk\",\"walk\",\"run\",\"run\",\"run\",\"run\",\"run\",\"run\",\"run\",\"run\",\"run\",\"run\",\"walk\",\"walk\",\"walk\",\"walk\",\"walk\",\"run\",\"run\",\"run\",\"run\",\"walk\",\"run\",\"run\",\"run\",\"run\",\"run\",\"run\",\"run\",\"run\",\"run\",\"walk\",\"walk\",\"walk\",\"run\",\"run\",\"run\",\"run\",\"run\",\"run\",\"run\",\"run\",\"run\",\"run\",\"run\",\"run\",\"run\",\"run\",\"run\",\"run\",\"run\",\"run\",\"run\",\"run\",\"run\",\"run\",\"run\",\"run\",\"walk\",\"run\",\"run\",\"run\",\"run\",\"walk\",\"run\",\"walk\",\"walk\",\"run\",\"run\",\"run\",\"run\",\"dribble\",\"dribble\",\"dribble\",\"dribble\",\"dribble\",\"pass\",\"run\",\"run\",\"run\",\"run\",\"run\",\"run\",\"run\",\"run\",\"run\",\"run\",\"walk\",\"walk\",\"run\",\"run\",\"run\",\"run\",\"run\",\"dribble\",\"dribble\",\"dribble\",\"pass\",\"run\",\"run\",\"run\",\"walk\",\"run\",\"run\",\"run\",\"run\",\"run\",\"run\",\"run\",\"run\",\"run\",\"tackle\",\"run\",\"run\",\"run\",\"run\",\"run\",\"run\",\"run\",\"walk\",\"walk\",\"walk\",\"walk\",\"walk\",\"walk\",\"run\",\"run\",\"run\",\"run\",\"tackle\",\"run\",\"walk\",\"walk\",\"walk\",\"walk\",\"tackle\",\"run\",\"run\",\"run\",\"walk\",\"walk\",\"walk\",\"walk\",\"run\",\"run\",\"run\",\"run\",\"run\",\"run\",\"run\",\"run\",\"run\",\"run\",\"run\",\"run\",\"run\",\"run\",\"run\",\"run\",\"run\",\"run\",\"run\",\"run\",\"run\",\"dribble\",\"shot\",\"shot\",\"walk\",\"walk\",\"run\",\"run\",\"run\",\"run\",\"run\",\"run\",\"run\",\"walk\",\"walk\",\"walk\",\"walk\",\"walk\",\"walk\",\"run\",\"run\",\"run\",\"run\",\"dribble\",\"dribble\",\"dribble\",\"dribble\",\"run\",\"run\",\"run\",\"run\",\"walk\",\"walk\",\"run\",\"run\",\"run\",\"run\",\"run\",\"run\",\"run\",\"run\",\"run\",\"walk\",\"walk\",\"run\",\"run\",\"run\",\"run\",\"walk\",\"run\",\"run\",\"run\",\"run\",\"walk\",\"walk\",\"run\",\"dribble\",\"walk\",\"walk\",\"walk\",\"walk\",\"walk\",\"rest\",\"walk\",\"rest\",\"walk\",\"walk\",\"run\",\"run\",\"run\",\"run\",\"tackle\",\"run\",\"tackle\",\"dribble\",\"dribble\",\"dribble\",\"dribble\",\"dribble\",\"pass\",\"dribble\",\"pass\",\"run\",\"run\",\"run\",\"run\",\"run\",\"walk\",\"rest\",\"walk\",\"walk\",\"walk\",\"walk\",\"run\",\"run\",\"run\",\"run\",\"dribble\",\"dribble\",\"dribble\",\"dribble\",\"run\",\"run\",\"run\",\"run\",\"run\",\"walk\",\"walk\",\"walk\",\"walk\",\"walk\",\"walk\",\"walk\",\"walk\",\"walk\",\"rest\",\"walk\",\"run\",\"walk\",\"walk\",\"walk\",\"walk\",\"walk\",\"run\",\"run\",\"run\",\"run\",\"run\",\"run\",\"walk\",\"walk\",\"walk\",\"walk\",\"run\",\"walk\",\"walk\",\"run\",\"run\",\"run\",\"run\",\"walk\",\"run\",\"run\",\"run\",\"run\",\"run\",\"run\",\"run\",\"run\",\"run\",\"run\",\"walk\",\"walk\",\"run\",\"run\",\"run\",\"run\",\"walk\",\"walk\",\"walk\",\"walk\",\"walk\",\"walk\",\"walk\",\"rest\",\"walk\",\"walk\",\"dribble\",\"dribble\",\"pass\",\"run\",\"run\",\"run\",\"run\",\"run\",\"walk\",\"run\",\"run\",\"run\",\"run\",\"run\",\"shot\",\"shot\",\"no action\",\"walk\",\"walk\",\"walk\",\"walk\",\"run\",\"run\",\"walk\",\"walk\",\"walk\",\"walk\",\"walk\",\"walk\",\"walk\",\"walk\",\"walk\",\"rest\",\"walk\",\"walk\",\"walk\",\"walk\",\"walk\",\"run\",\"run\",\"walk\",\"walk\",\"rest\",\"walk\",\"walk\",\"walk\",\"walk\",\"walk\",\"walk\",\"walk\",\"walk\",\"walk\",\"walk\",\"walk\",\"walk\",\"walk\",\"walk\",\"walk\",\"walk\",\"run\",\"run\",\"run\",\"run\",\"run\",\"run\",\"run\",\"run\",\"run\",\"run\",\"run\",\"run\",\"run\",\"run\",\"run\",\"run\",\"run\",\"run\",\"run\",\"run\",\"run\",\"run\",\"run\",\"run\",\"run\",\"run\",\"run\",\"run\",\"run\",\"run\",\"shot\",\"shot\",\"run\",\"shot\",\"walk\",\"walk\",\"walk\",\"walk\",\"walk\",\"walk\",\"walk\",\"walk\",\"walk\",\"walk\",\"walk\",\"walk\"],\"legendgroup\":\"\",\"name\":\"\",\"showlegend\":true,\"type\":\"pie\"}],                        {\"template\":{\"data\":{\"bar\":[{\"error_x\":{\"color\":\"#2a3f5f\"},\"error_y\":{\"color\":\"#2a3f5f\"},\"marker\":{\"line\":{\"color\":\"#E5ECF6\",\"width\":0.5},\"pattern\":{\"fillmode\":\"overlay\",\"size\":10,\"solidity\":0.2}},\"type\":\"bar\"}],\"barpolar\":[{\"marker\":{\"line\":{\"color\":\"#E5ECF6\",\"width\":0.5},\"pattern\":{\"fillmode\":\"overlay\",\"size\":10,\"solidity\":0.2}},\"type\":\"barpolar\"}],\"carpet\":[{\"aaxis\":{\"endlinecolor\":\"#2a3f5f\",\"gridcolor\":\"white\",\"linecolor\":\"white\",\"minorgridcolor\":\"white\",\"startlinecolor\":\"#2a3f5f\"},\"baxis\":{\"endlinecolor\":\"#2a3f5f\",\"gridcolor\":\"white\",\"linecolor\":\"white\",\"minorgridcolor\":\"white\",\"startlinecolor\":\"#2a3f5f\"},\"type\":\"carpet\"}],\"choropleth\":[{\"colorbar\":{\"outlinewidth\":0,\"ticks\":\"\"},\"type\":\"choropleth\"}],\"contour\":[{\"colorbar\":{\"outlinewidth\":0,\"ticks\":\"\"},\"colorscale\":[[0.0,\"#0d0887\"],[0.1111111111111111,\"#46039f\"],[0.2222222222222222,\"#7201a8\"],[0.3333333333333333,\"#9c179e\"],[0.4444444444444444,\"#bd3786\"],[0.5555555555555556,\"#d8576b\"],[0.6666666666666666,\"#ed7953\"],[0.7777777777777778,\"#fb9f3a\"],[0.8888888888888888,\"#fdca26\"],[1.0,\"#f0f921\"]],\"type\":\"contour\"}],\"contourcarpet\":[{\"colorbar\":{\"outlinewidth\":0,\"ticks\":\"\"},\"type\":\"contourcarpet\"}],\"heatmap\":[{\"colorbar\":{\"outlinewidth\":0,\"ticks\":\"\"},\"colorscale\":[[0.0,\"#0d0887\"],[0.1111111111111111,\"#46039f\"],[0.2222222222222222,\"#7201a8\"],[0.3333333333333333,\"#9c179e\"],[0.4444444444444444,\"#bd3786\"],[0.5555555555555556,\"#d8576b\"],[0.6666666666666666,\"#ed7953\"],[0.7777777777777778,\"#fb9f3a\"],[0.8888888888888888,\"#fdca26\"],[1.0,\"#f0f921\"]],\"type\":\"heatmap\"}],\"heatmapgl\":[{\"colorbar\":{\"outlinewidth\":0,\"ticks\":\"\"},\"colorscale\":[[0.0,\"#0d0887\"],[0.1111111111111111,\"#46039f\"],[0.2222222222222222,\"#7201a8\"],[0.3333333333333333,\"#9c179e\"],[0.4444444444444444,\"#bd3786\"],[0.5555555555555556,\"#d8576b\"],[0.6666666666666666,\"#ed7953\"],[0.7777777777777778,\"#fb9f3a\"],[0.8888888888888888,\"#fdca26\"],[1.0,\"#f0f921\"]],\"type\":\"heatmapgl\"}],\"histogram\":[{\"marker\":{\"pattern\":{\"fillmode\":\"overlay\",\"size\":10,\"solidity\":0.2}},\"type\":\"histogram\"}],\"histogram2d\":[{\"colorbar\":{\"outlinewidth\":0,\"ticks\":\"\"},\"colorscale\":[[0.0,\"#0d0887\"],[0.1111111111111111,\"#46039f\"],[0.2222222222222222,\"#7201a8\"],[0.3333333333333333,\"#9c179e\"],[0.4444444444444444,\"#bd3786\"],[0.5555555555555556,\"#d8576b\"],[0.6666666666666666,\"#ed7953\"],[0.7777777777777778,\"#fb9f3a\"],[0.8888888888888888,\"#fdca26\"],[1.0,\"#f0f921\"]],\"type\":\"histogram2d\"}],\"histogram2dcontour\":[{\"colorbar\":{\"outlinewidth\":0,\"ticks\":\"\"},\"colorscale\":[[0.0,\"#0d0887\"],[0.1111111111111111,\"#46039f\"],[0.2222222222222222,\"#7201a8\"],[0.3333333333333333,\"#9c179e\"],[0.4444444444444444,\"#bd3786\"],[0.5555555555555556,\"#d8576b\"],[0.6666666666666666,\"#ed7953\"],[0.7777777777777778,\"#fb9f3a\"],[0.8888888888888888,\"#fdca26\"],[1.0,\"#f0f921\"]],\"type\":\"histogram2dcontour\"}],\"mesh3d\":[{\"colorbar\":{\"outlinewidth\":0,\"ticks\":\"\"},\"type\":\"mesh3d\"}],\"parcoords\":[{\"line\":{\"colorbar\":{\"outlinewidth\":0,\"ticks\":\"\"}},\"type\":\"parcoords\"}],\"pie\":[{\"automargin\":true,\"type\":\"pie\"}],\"scatter\":[{\"marker\":{\"colorbar\":{\"outlinewidth\":0,\"ticks\":\"\"}},\"type\":\"scatter\"}],\"scatter3d\":[{\"line\":{\"colorbar\":{\"outlinewidth\":0,\"ticks\":\"\"}},\"marker\":{\"colorbar\":{\"outlinewidth\":0,\"ticks\":\"\"}},\"type\":\"scatter3d\"}],\"scattercarpet\":[{\"marker\":{\"colorbar\":{\"outlinewidth\":0,\"ticks\":\"\"}},\"type\":\"scattercarpet\"}],\"scattergeo\":[{\"marker\":{\"colorbar\":{\"outlinewidth\":0,\"ticks\":\"\"}},\"type\":\"scattergeo\"}],\"scattergl\":[{\"marker\":{\"colorbar\":{\"outlinewidth\":0,\"ticks\":\"\"}},\"type\":\"scattergl\"}],\"scattermapbox\":[{\"marker\":{\"colorbar\":{\"outlinewidth\":0,\"ticks\":\"\"}},\"type\":\"scattermapbox\"}],\"scatterpolar\":[{\"marker\":{\"colorbar\":{\"outlinewidth\":0,\"ticks\":\"\"}},\"type\":\"scatterpolar\"}],\"scatterpolargl\":[{\"marker\":{\"colorbar\":{\"outlinewidth\":0,\"ticks\":\"\"}},\"type\":\"scatterpolargl\"}],\"scatterternary\":[{\"marker\":{\"colorbar\":{\"outlinewidth\":0,\"ticks\":\"\"}},\"type\":\"scatterternary\"}],\"surface\":[{\"colorbar\":{\"outlinewidth\":0,\"ticks\":\"\"},\"colorscale\":[[0.0,\"#0d0887\"],[0.1111111111111111,\"#46039f\"],[0.2222222222222222,\"#7201a8\"],[0.3333333333333333,\"#9c179e\"],[0.4444444444444444,\"#bd3786\"],[0.5555555555555556,\"#d8576b\"],[0.6666666666666666,\"#ed7953\"],[0.7777777777777778,\"#fb9f3a\"],[0.8888888888888888,\"#fdca26\"],[1.0,\"#f0f921\"]],\"type\":\"surface\"}],\"table\":[{\"cells\":{\"fill\":{\"color\":\"#EBF0F8\"},\"line\":{\"color\":\"white\"}},\"header\":{\"fill\":{\"color\":\"#C8D4E3\"},\"line\":{\"color\":\"white\"}},\"type\":\"table\"}]},\"layout\":{\"annotationdefaults\":{\"arrowcolor\":\"#2a3f5f\",\"arrowhead\":0,\"arrowwidth\":1},\"autotypenumbers\":\"strict\",\"coloraxis\":{\"colorbar\":{\"outlinewidth\":0,\"ticks\":\"\"}},\"colorscale\":{\"diverging\":[[0,\"#8e0152\"],[0.1,\"#c51b7d\"],[0.2,\"#de77ae\"],[0.3,\"#f1b6da\"],[0.4,\"#fde0ef\"],[0.5,\"#f7f7f7\"],[0.6,\"#e6f5d0\"],[0.7,\"#b8e186\"],[0.8,\"#7fbc41\"],[0.9,\"#4d9221\"],[1,\"#276419\"]],\"sequential\":[[0.0,\"#0d0887\"],[0.1111111111111111,\"#46039f\"],[0.2222222222222222,\"#7201a8\"],[0.3333333333333333,\"#9c179e\"],[0.4444444444444444,\"#bd3786\"],[0.5555555555555556,\"#d8576b\"],[0.6666666666666666,\"#ed7953\"],[0.7777777777777778,\"#fb9f3a\"],[0.8888888888888888,\"#fdca26\"],[1.0,\"#f0f921\"]],\"sequentialminus\":[[0.0,\"#0d0887\"],[0.1111111111111111,\"#46039f\"],[0.2222222222222222,\"#7201a8\"],[0.3333333333333333,\"#9c179e\"],[0.4444444444444444,\"#bd3786\"],[0.5555555555555556,\"#d8576b\"],[0.6666666666666666,\"#ed7953\"],[0.7777777777777778,\"#fb9f3a\"],[0.8888888888888888,\"#fdca26\"],[1.0,\"#f0f921\"]]},\"colorway\":[\"#636efa\",\"#EF553B\",\"#00cc96\",\"#ab63fa\",\"#FFA15A\",\"#19d3f3\",\"#FF6692\",\"#B6E880\",\"#FF97FF\",\"#FECB52\"],\"font\":{\"color\":\"#2a3f5f\"},\"geo\":{\"bgcolor\":\"white\",\"lakecolor\":\"white\",\"landcolor\":\"#E5ECF6\",\"showlakes\":true,\"showland\":true,\"subunitcolor\":\"white\"},\"hoverlabel\":{\"align\":\"left\"},\"hovermode\":\"closest\",\"mapbox\":{\"style\":\"light\"},\"paper_bgcolor\":\"white\",\"plot_bgcolor\":\"#E5ECF6\",\"polar\":{\"angularaxis\":{\"gridcolor\":\"white\",\"linecolor\":\"white\",\"ticks\":\"\"},\"bgcolor\":\"#E5ECF6\",\"radialaxis\":{\"gridcolor\":\"white\",\"linecolor\":\"white\",\"ticks\":\"\"}},\"scene\":{\"xaxis\":{\"backgroundcolor\":\"#E5ECF6\",\"gridcolor\":\"white\",\"gridwidth\":2,\"linecolor\":\"white\",\"showbackground\":true,\"ticks\":\"\",\"zerolinecolor\":\"white\"},\"yaxis\":{\"backgroundcolor\":\"#E5ECF6\",\"gridcolor\":\"white\",\"gridwidth\":2,\"linecolor\":\"white\",\"showbackground\":true,\"ticks\":\"\",\"zerolinecolor\":\"white\"},\"zaxis\":{\"backgroundcolor\":\"#E5ECF6\",\"gridcolor\":\"white\",\"gridwidth\":2,\"linecolor\":\"white\",\"showbackground\":true,\"ticks\":\"\",\"zerolinecolor\":\"white\"}},\"shapedefaults\":{\"line\":{\"color\":\"#2a3f5f\"}},\"ternary\":{\"aaxis\":{\"gridcolor\":\"white\",\"linecolor\":\"white\",\"ticks\":\"\"},\"baxis\":{\"gridcolor\":\"white\",\"linecolor\":\"white\",\"ticks\":\"\"},\"bgcolor\":\"#E5ECF6\",\"caxis\":{\"gridcolor\":\"white\",\"linecolor\":\"white\",\"ticks\":\"\"}},\"title\":{\"x\":0.05},\"xaxis\":{\"automargin\":true,\"gridcolor\":\"white\",\"linecolor\":\"white\",\"ticks\":\"\",\"title\":{\"standoff\":15},\"zerolinecolor\":\"white\",\"zerolinewidth\":2},\"yaxis\":{\"automargin\":true,\"gridcolor\":\"white\",\"linecolor\":\"white\",\"ticks\":\"\",\"title\":{\"standoff\":15},\"zerolinecolor\":\"white\",\"zerolinewidth\":2}}},\"legend\":{\"tracegroupgap\":0},\"margin\":{\"t\":60},\"title\":{\"text\":\"match2\"},\"width\":500,\"height\":400},                        {\"responsive\": true}                    ).then(function(){\n",
       "                            \n",
       "var gd = document.getElementById('93f88b47-f15f-492d-af82-5123a1f090bb');\n",
       "var x = new MutationObserver(function (mutations, observer) {{\n",
       "        var display = window.getComputedStyle(gd).display;\n",
       "        if (!display || display === 'none') {{\n",
       "            console.log([gd, 'removed!']);\n",
       "            Plotly.purge(gd);\n",
       "            observer.disconnect();\n",
       "        }}\n",
       "}});\n",
       "\n",
       "// Listen for the removal of the full notebook cells\n",
       "var notebookContainer = gd.closest('#notebook-container');\n",
       "if (notebookContainer) {{\n",
       "    x.observe(notebookContainer, {childList: true});\n",
       "}}\n",
       "\n",
       "// Listen for the clearing of the current output cell\n",
       "var outputEl = gd.closest('.output');\n",
       "if (outputEl) {{\n",
       "    x.observe(outputEl, {childList: true});\n",
       "}}\n",
       "\n",
       "                        })                };                });            </script>        </div>"
      ]
     },
     "metadata": {},
     "output_type": "display_data"
    }
   ],
   "source": [
    "fig=px.pie(df2, names=\"label\")\n",
    "\n",
    "fig.update_layout(title='match2',\n",
    "                  width=500,\n",
    "                  height=400)\n",
    "\n",
    "fig.show()"
   ]
  },
  {
   "cell_type": "code",
   "execution_count": null,
   "id": "3d83bc0a-fa41-4b21-a46f-d2ac108b9259",
   "metadata": {},
   "outputs": [],
   "source": []
  },
  {
   "cell_type": "code",
   "execution_count": 30,
   "id": "d3660e5e-afaa-4fe0-bc12-aba91b1db83a",
   "metadata": {},
   "outputs": [],
   "source": [
    "def flatten(l):\n",
    "    return [item for sublist in l for item in sublist]"
   ]
  },
  {
   "cell_type": "code",
   "execution_count": 31,
   "id": "167233c4-f7e3-4f5d-b542-f9f3f364cc0e",
   "metadata": {},
   "outputs": [],
   "source": [
    "idx1=list(df1['label'].value_counts().index)"
   ]
  },
  {
   "cell_type": "code",
   "execution_count": 42,
   "id": "1b4fb073-a86d-46cb-b6df-06c2a14a753a",
   "metadata": {},
   "outputs": [],
   "source": [
    "def flatten_column(df):\n",
    "    label_=[]\n",
    "    norm_=[]\n",
    "    for i in range(len(df1)):\n",
    "        norm=df.iloc[i,1]\n",
    "        norm_.append(norm)\n",
    "        df1.iloc[i,0]*len(norm)\n",
    "        label_.append(list(repeat(df1.iloc[i,0],len(norm))))\n",
    "    \n",
    "    return flatten(label_),flatten(norm_)\n"
   ]
  },
  {
   "cell_type": "code",
   "execution_count": 43,
   "id": "da619563-a2d8-40c9-a172-88a99e9dc04b",
   "metadata": {},
   "outputs": [],
   "source": [
    "lab1,norm1=flatten_column(df1)\n",
    "lab2,norm2=flatten_column(df2)\n",
    "df1_long=pd.DataFrame({'label':lab1,'norm':norm1})\n",
    "df2_long=pd.DataFrame({'label':lab2,'norm':norm2})"
   ]
  },
  {
   "cell_type": "code",
   "execution_count": 44,
   "id": "2affae95-f9a0-473b-9cf9-4f6d6c53de17",
   "metadata": {},
   "outputs": [
    {
     "data": {
      "image/png": "[encoded data removed]",
      "text/plain": [
       "<Figure size 864x1080 with 8 Axes>"
      ]
     },
     "metadata": {
      "needs_background": "light"
     },
     "output_type": "display_data"
    }
   ],
   "source": [
    "f1=plt.figure(figsize=(12,15))\n",
    "for i,v in enumerate(idx1):\n",
    "    norm1=df1[df1['label']==v]['norm'].to_list()\n",
    "    norm1_list=flatten(norm1)\n",
    "    norm2=df2[df2['label']==v]['norm'].to_list()\n",
    "    norm2_list=flatten(norm2)\n",
    "    f1.add_subplot(4,2,i+1)\n",
    "    sns.histplot(x=norm1_list,kde=True,stat='density',color='red',alpha=0.4).set(title=v)\n",
    "    sns.histplot(x=norm2_list,kde=True,stat='density',color='green',alpha=0.4).set(title=v)\n"
   ]
  },
  {
   "cell_type": "code",
   "execution_count": 45,
   "id": "994fadac-a774-41a6-aa64-8c2a555ab4a5",
   "metadata": {},
   "outputs": [
    {
     "data": {
      "image/png": "[encoded data removed]",
      "text/plain": [
       "<Figure size 864x1080 with 8 Axes>"
      ]
     },
     "metadata": {
      "needs_background": "light"
     },
     "output_type": "display_data"
    }
   ],
   "source": [
    "f1=plt.figure(figsize=(12,15))\n",
    "med1=[]\n",
    "mean1=[]\n",
    "std1=[]\n",
    "norm1=[]\n",
    "for i,v in enumerate(idx1):\n",
    "    norm=df1[df1['label']==v]['norm'].to_list()\n",
    "    norm_list=flatten(norm)\n",
    "    norm1.append(norm)\n",
    "    mean1.append(round(np.mean(norm_list)))\n",
    "    med1.append(round(np.median(norm_list)))\n",
    "    std1.append(round(np.std(norm_list)))\n",
    "    f1.add_subplot(4,2,i+1)\n",
    "    sns.histplot(x=norm_list,kde=True).set(title=v)"
   ]
  },
  {
   "cell_type": "code",
   "execution_count": 46,
   "id": "b609328f-a7c0-49fd-9c07-73aef37ab716",
   "metadata": {},
   "outputs": [
    {
     "data": {
      "text/html": [
       "<div>\n",
       "<style scoped>\n",
       "    .dataframe tbody tr th:only-of-type {\n",
       "        vertical-align: middle;\n",
       "    }\n",
       "\n",
       "    .dataframe tbody tr th {\n",
       "        vertical-align: top;\n",
       "    }\n",
       "\n",
       "    .dataframe thead th {\n",
       "        text-align: right;\n",
       "    }\n",
       "</style>\n",
       "<table border=\"1\" class=\"dataframe\">\n",
       "  <thead>\n",
       "    <tr style=\"text-align: right;\">\n",
       "      <th></th>\n",
       "      <th>action</th>\n",
       "      <th>mean</th>\n",
       "      <th>median</th>\n",
       "      <th>Ecart-type</th>\n",
       "    </tr>\n",
       "  </thead>\n",
       "  <tbody>\n",
       "    <tr>\n",
       "      <th>0</th>\n",
       "      <td>walk</td>\n",
       "      <td>28</td>\n",
       "      <td>24</td>\n",
       "      <td>14</td>\n",
       "    </tr>\n",
       "    <tr>\n",
       "      <th>1</th>\n",
       "      <td>run</td>\n",
       "      <td>53</td>\n",
       "      <td>41</td>\n",
       "      <td>52</td>\n",
       "    </tr>\n",
       "    <tr>\n",
       "      <th>2</th>\n",
       "      <td>dribble</td>\n",
       "      <td>51</td>\n",
       "      <td>41</td>\n",
       "      <td>42</td>\n",
       "    </tr>\n",
       "    <tr>\n",
       "      <th>3</th>\n",
       "      <td>rest</td>\n",
       "      <td>22</td>\n",
       "      <td>21</td>\n",
       "      <td>5</td>\n",
       "    </tr>\n",
       "    <tr>\n",
       "      <th>4</th>\n",
       "      <td>pass</td>\n",
       "      <td>60</td>\n",
       "      <td>37</td>\n",
       "      <td>63</td>\n",
       "    </tr>\n",
       "    <tr>\n",
       "      <th>5</th>\n",
       "      <td>tackle</td>\n",
       "      <td>69</td>\n",
       "      <td>46</td>\n",
       "      <td>81</td>\n",
       "    </tr>\n",
       "    <tr>\n",
       "      <th>6</th>\n",
       "      <td>shot</td>\n",
       "      <td>120</td>\n",
       "      <td>85</td>\n",
       "      <td>123</td>\n",
       "    </tr>\n",
       "    <tr>\n",
       "      <th>7</th>\n",
       "      <td>cross</td>\n",
       "      <td>47</td>\n",
       "      <td>32</td>\n",
       "      <td>48</td>\n",
       "    </tr>\n",
       "  </tbody>\n",
       "</table>\n",
       "</div>"
      ],
      "text/plain": [
       "    action  mean  median  Ecart-type\n",
       "0     walk    28      24          14\n",
       "1      run    53      41          52\n",
       "2  dribble    51      41          42\n",
       "3     rest    22      21           5\n",
       "4     pass    60      37          63\n",
       "5   tackle    69      46          81\n",
       "6     shot   120      85         123\n",
       "7    cross    47      32          48"
      ]
     },
     "execution_count": 46,
     "metadata": {},
     "output_type": "execute_result"
    }
   ],
   "source": [
    "pd.DataFrame({'action':idx1,\n",
    "              'mean':mean1,\n",
    "               'median':med1,\n",
    "              'Ecart-type':std1})"
   ]
  },
  {
   "cell_type": "code",
   "execution_count": 47,
   "id": "b368489b-f293-4341-8980-e6d3b4a057f9",
   "metadata": {},
   "outputs": [
    {
     "data": {
      "image/png": "[encoded data removed]",
      "text/plain": [
       "<Figure size 864x1080 with 8 Axes>"
      ]
     },
     "metadata": {
      "needs_background": "light"
     },
     "output_type": "display_data"
    }
   ],
   "source": [
    "mean2=[]\n",
    "med2=[]\n",
    "std2=[]\n",
    "norm\n",
    "f2=plt.figure(figsize=(12,15))\n",
    "for i,v in enumerate(idx1):\n",
    "    norm=df2[df2['label']==v]['norm'].to_list()\n",
    "    norm_list=flatten(norm)\n",
    "    mean2.append(round(np.mean(norm_list)))\n",
    "    med2.append(round(np.median(norm_list)))\n",
    "    std2.append(round(np.std(norm_list)))\n",
    "    f2.add_subplot(4,2,i+1)\n",
    "    sns.histplot(x=norm_list,kde=True,stat = \"density\").set(title=v)"
   ]
  },
  {
   "cell_type": "code",
   "execution_count": 49,
   "id": "232d8dd6-0121-459a-9ea4-3a808979751d",
   "metadata": {},
   "outputs": [
    {
     "data": {
      "image/png": "[encoded data removed]",
      "text/plain": [
       "<Figure size 1800x1080 with 1 Axes>"
      ]
     },
     "metadata": {
      "needs_background": "light"
     },
     "output_type": "display_data"
    }
   ],
   "source": [
    "df1_long['match']=1\n",
    "df2_long['match']=2\n",
    "# stack the two DataFrames\n",
    "df_total=pd.concat([df1_long, df2_long], ignore_index=True, axis=0)\n",
    "\n",
    "plt.figure(figsize=(25,15))\n",
    "sns.boxplot(data=df_total,x='norm',y='label',hue='match')\n",
    "plt.grid()"
   ]
  },
  {
   "cell_type": "code",
   "execution_count": 25,
   "id": "3e20f110-7a7a-485c-8b92-43163ae4e807",
   "metadata": {},
   "outputs": [
    {
     "data": {
      "text/html": [
       "<div>\n",
       "<style scoped>\n",
       "    .dataframe tbody tr th:only-of-type {\n",
       "        vertical-align: middle;\n",
       "    }\n",
       "\n",
       "    .dataframe tbody tr th {\n",
       "        vertical-align: top;\n",
       "    }\n",
       "\n",
       "    .dataframe thead th {\n",
       "        text-align: right;\n",
       "    }\n",
       "</style>\n",
       "<table border=\"1\" class=\"dataframe\">\n",
       "  <thead>\n",
       "    <tr style=\"text-align: right;\">\n",
       "      <th></th>\n",
       "      <th>action</th>\n",
       "      <th>mean</th>\n",
       "      <th>median</th>\n",
       "      <th>Ecart-type</th>\n",
       "    </tr>\n",
       "  </thead>\n",
       "  <tbody>\n",
       "    <tr>\n",
       "      <th>0</th>\n",
       "      <td>walk</td>\n",
       "      <td>29</td>\n",
       "      <td>24</td>\n",
       "      <td>16</td>\n",
       "    </tr>\n",
       "    <tr>\n",
       "      <th>1</th>\n",
       "      <td>run</td>\n",
       "      <td>54</td>\n",
       "      <td>45</td>\n",
       "      <td>44</td>\n",
       "    </tr>\n",
       "    <tr>\n",
       "      <th>2</th>\n",
       "      <td>dribble</td>\n",
       "      <td>66</td>\n",
       "      <td>52</td>\n",
       "      <td>56</td>\n",
       "    </tr>\n",
       "    <tr>\n",
       "      <th>3</th>\n",
       "      <td>rest</td>\n",
       "      <td>22</td>\n",
       "      <td>21</td>\n",
       "      <td>5</td>\n",
       "    </tr>\n",
       "    <tr>\n",
       "      <th>4</th>\n",
       "      <td>pass</td>\n",
       "      <td>66</td>\n",
       "      <td>48</td>\n",
       "      <td>55</td>\n",
       "    </tr>\n",
       "    <tr>\n",
       "      <th>5</th>\n",
       "      <td>tackle</td>\n",
       "      <td>61</td>\n",
       "      <td>44</td>\n",
       "      <td>63</td>\n",
       "    </tr>\n",
       "    <tr>\n",
       "      <th>6</th>\n",
       "      <td>shot</td>\n",
       "      <td>103</td>\n",
       "      <td>67</td>\n",
       "      <td>98</td>\n",
       "    </tr>\n",
       "    <tr>\n",
       "      <th>7</th>\n",
       "      <td>cross</td>\n",
       "      <td>94</td>\n",
       "      <td>68</td>\n",
       "      <td>70</td>\n",
       "    </tr>\n",
       "  </tbody>\n",
       "</table>\n",
       "</div>"
      ],
      "text/plain": [
       "    action  mean  median  Ecart-type\n",
       "0     walk    29      24          16\n",
       "1      run    54      45          44\n",
       "2  dribble    66      52          56\n",
       "3     rest    22      21           5\n",
       "4     pass    66      48          55\n",
       "5   tackle    61      44          63\n",
       "6     shot   103      67          98\n",
       "7    cross    94      68          70"
      ]
     },
     "execution_count": 25,
     "metadata": {},
     "output_type": "execute_result"
    }
   ],
   "source": [
    "pd.DataFrame({'action':idx1,\n",
    "              'mean':mean2,\n",
    "               'median':med2,\n",
    "              'Ecart-type':std2})"
   ]
  },
  {
   "cell_type": "code",
   "execution_count": null,
   "id": "0bfffd2f-49e7-4682-b73b-6957a0a7c043",
   "metadata": {},
   "outputs": [],
   "source": []
  },
  {
   "cell_type": "code",
   "execution_count": 26,
   "id": "83f3fd98-c214-4be3-8c40-7832e43ed2b2",
   "metadata": {},
   "outputs": [],
   "source": [
    "norm1_total=df1['norm'].to_list()\n",
    "norm1_total=flatten(norm1_total)\n",
    "\n",
    "norm2_total=df2['norm'].to_list()\n",
    "norm2_total=flatten(norm2_total)"
   ]
  },
  {
   "cell_type": "code",
   "execution_count": 28,
   "id": "390d1b22-ee80-41b6-adf9-693f6e01d02c",
   "metadata": {
    "tags": []
   },
   "outputs": [
    {
     "data": {
      "text/plain": [
       "(0.0, 800.0)"
      ]
     },
     "execution_count": 28,
     "metadata": {},
     "output_type": "execute_result"
    },
    {
     "data": {
      "image/png": "[encoded data removed]",
      "text/plain": [
       "<Figure size 1440x288 with 1 Axes>"
      ]
     },
     "metadata": {
      "needs_background": "light"
     },
     "output_type": "display_data"
    }
   ],
   "source": [
    "plt.figure(figsize=(20,4))\n",
    "plt.plot(norm1_total)\n",
    "plt.xlim(0,len(norm1_total))\n",
    "plt.ylim(0,800)"
   ]
  },
  {
   "cell_type": "code",
   "execution_count": 29,
   "id": "6ea85b9e-9545-45f9-bdde-39abb9f97f60",
   "metadata": {},
   "outputs": [
    {
     "data": {
      "text/plain": [
       "(0.0, 800.0)"
      ]
     },
     "execution_count": 29,
     "metadata": {},
     "output_type": "execute_result"
    },
    {
     "data": {
      "image/png": "[encoded data removed]",
      "text/plain": [
       "<Figure size 1440x288 with 1 Axes>"
      ]
     },
     "metadata": {
      "needs_background": "light"
     },
     "output_type": "display_data"
    }
   ],
   "source": [
    "\n",
    "plt.figure(figsize=(20,4))\n",
    "plt.plot(norm2_total)\n",
    "plt.xlim(0,len(norm2_total))\n",
    "plt.ylim(0,800)"
   ]
  },
  {
   "cell_type": "code",
   "execution_count": 49,
   "id": "15862e97-b0eb-4d6c-8cd8-8d0041d03e69",
   "metadata": {},
   "outputs": [
    {
     "data": {
      "text/html": [
       "<div>\n",
       "<style scoped>\n",
       "    .dataframe tbody tr th:only-of-type {\n",
       "        vertical-align: middle;\n",
       "    }\n",
       "\n",
       "    .dataframe tbody tr th {\n",
       "        vertical-align: top;\n",
       "    }\n",
       "\n",
       "    .dataframe thead th {\n",
       "        text-align: right;\n",
       "    }\n",
       "</style>\n",
       "<table border=\"1\" class=\"dataframe\">\n",
       "  <thead>\n",
       "    <tr style=\"text-align: right;\">\n",
       "      <th></th>\n",
       "      <th>label</th>\n",
       "      <th>norm</th>\n",
       "    </tr>\n",
       "  </thead>\n",
       "  <tbody>\n",
       "    <tr>\n",
       "      <th>0</th>\n",
       "      <td>no action</td>\n",
       "      <td>[104.42423889328715, 87.63989343949717, 128.52...</td>\n",
       "    </tr>\n",
       "    <tr>\n",
       "      <th>524</th>\n",
       "      <td>no action</td>\n",
       "      <td>[51.2820728424938, 45.38173583425492, 34.00457...</td>\n",
       "    </tr>\n",
       "  </tbody>\n",
       "</table>\n",
       "</div>"
      ],
      "text/plain": [
       "         label                                               norm\n",
       "0    no action  [104.42423889328715, 87.63989343949717, 128.52...\n",
       "524  no action  [51.2820728424938, 45.38173583425492, 34.00457..."
      ]
     },
     "execution_count": 49,
     "metadata": {},
     "output_type": "execute_result"
    }
   ],
   "source": [
    "df2[df2['label']=='no action']"
   ]
  },
  {
   "cell_type": "code",
   "execution_count": null,
   "id": "6bbcae6d-35b0-4530-9aa8-c3950be9dfe6",
   "metadata": {},
   "outputs": [],
   "source": []
  }
 ],
 "metadata": {
  "kernelspec": {
   "display_name": "Python 3 (ipykernel)",
   "language": "python",
   "name": "python3"
  },
  "language_info": {
   "codemirror_mode": {
    "name": "ipython",
    "version": 3
   },
   "file_extension": ".py",
   "mimetype": "text/x-python",
   "name": "python",
   "nbconvert_exporter": "python",
   "pygments_lexer": "ipython3",
   "version": "3.8.10"
  }
 },
 "nbformat": 4,
 "nbformat_minor": 5
}
